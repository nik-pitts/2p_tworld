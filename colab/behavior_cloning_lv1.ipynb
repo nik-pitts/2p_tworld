{
 "cells": [
  {
   "cell_type": "code",
   "execution_count": 1,
   "metadata": {},
   "outputs": [],
   "source": [
    "import json\n",
    "import sys\n",
    "import os\n",
    "# Add the parent directory to sys.path\n",
    "sys.path.append(os.path.abspath('..'))\n",
    "from src.tile_definitions import TILE_MAPPING\n",
    "\n",
    "import torch\n",
    "from torch.utils.data import Dataset, DataLoader\n",
    "from torch.optim.lr_scheduler import StepLR, ReduceLROnPlateau"
   ]
  },
  {
   "cell_type": "markdown",
   "metadata": {},
   "source": [
    "# Dataset Class"
   ]
  },
  {
   "cell_type": "code",
   "execution_count": null,
   "metadata": {},
   "outputs": [],
   "source": [
    "class Level1GameDataset(Dataset):\n",
    "    def __init__(self, json_file):\n",
    "        with open(json_file, \"r\") as f:\n",
    "            self.data = json.load(f)\n",
    "            \n",
    "        print(f\"Loaded {len(self.data)} gameplay samples from {json_file}\")\n",
    "        \n",
    "        # Action to integer mapping\n",
    "        self.action_mapping = {\"UP\": 0, \"DOWN\": 1, \"LEFT\": 2, \"RIGHT\": 3}\n",
    "\n",
    "        # Create reverse mapping (tile_type -> ID) from TILE_MAPPING\n",
    "        self.tile_type_to_id = {}\n",
    "        for tile_id, (tile_type, _, _, _, _) in TILE_MAPPING.items():\n",
    "            self.tile_type_to_id[tile_type] = tile_id\n",
    "            \n",
    "    def __len__(self):\n",
    "        return len(self.data)\n",
    "    \n",
    "    def __getitem__(self, idx):\n",
    "        sample = self.data[idx]\n",
    "        state = sample[\"state\"]\n",
    "        action = self.action_mapping[sample[\"action\"]]\n",
    "        \n",
    "        # Extract state components\n",
    "        position = torch.tensor(state[\"position\"], dtype=torch.float32)\n",
    "        chips_collected = torch.tensor([state[\"player_collected_chips\"]], dtype=torch.float32)\n",
    "        total_chips_collected = torch.tensor([state[\"total_collected_chips\"]], dtype=torch.float32)\n",
    "        socket_unlocked = torch.tensor([int(state[\"socket_unlocked\"])], dtype=torch.float32)\n",
    "        nearest_chip = torch.tensor(state[\"nearest_chip\"], dtype=torch.float32)\n",
    "        exit_location = torch.tensor(state[\"exit_position\"], dtype=torch.float32)\n",
    "        \n",
    "        # Process the full grid\n",
    "        full_grid = []\n",
    "        for row in state[\"full_grid\"]:\n",
    "            processed_row = []\n",
    "            for tile_type in row:\n",
    "                # Map to integer using the updated tile definitions\n",
    "                processed_row.append(self.tile_type_to_id.get(tile_type, 1))\n",
    "            full_grid.append(processed_row)\n",
    "        \n",
    "        full_grid_tensor = torch.tensor(full_grid, dtype=torch.float32)\n",
    "        \n",
    "        local_grid = []\n",
    "        for row in state[\"local_grid\"]:\n",
    "            processed_row = []\n",
    "            for tile_type in row:\n",
    "                # Map to integer using the updated tile definitions\n",
    "                processed_row.append(self.tile_type_to_id.get(tile_type, 1))\n",
    "            local_grid.append(processed_row)\n",
    "        \n",
    "        local_grid_tensor = torch.tensor(local_grid, dtype=torch.float32)\n",
    "        \n",
    "        # Additional state information\n",
    "        alive = torch.tensor([float(state.get(\"alive\", True))], dtype=torch.float32)\n",
    "        remaining_chips = torch.tensor([state.get(\"remaining_chips\", 0)], dtype=torch.float32)\n",
    "        other_player_pos = torch.tensor(state.get(\"other_player_position\", [-1, -1]), dtype=torch.float32)\n",
    "        \n",
    "        # Concatenate all state information into a single vector\n",
    "        state_vector = torch.cat([\n",
    "            position,\n",
    "            chips_collected, \n",
    "            total_chips_collected,\n",
    "            socket_unlocked,\n",
    "            nearest_chip,\n",
    "            exit_location,\n",
    "            full_grid_tensor.flatten(),\n",
    "            local_grid_tensor.flatten(),\n",
    "            alive,\n",
    "            remaining_chips,\n",
    "            other_player_pos\n",
    "        ])\n",
    "        \n",
    "        return state_vector, torch.tensor(action, dtype=torch.long)"
   ]
  },
  {
   "cell_type": "markdown",
   "metadata": {},
   "source": [
    "## Load Dataset and Test"
   ]
  },
  {
   "cell_type": "code",
   "execution_count": 31,
   "metadata": {},
   "outputs": [
    {
     "name": "stdout",
     "output_type": "stream",
     "text": [
      "Loaded 1068 gameplay samples from ../data/human_play_data_level0.json\n",
      "🔢 Sample Vector: torch.Size([191])\n",
      "📊 Loaded 1068 samples.\n"
     ]
    }
   ],
   "source": [
    "dataset = Level1GameDataset(\"../data/human_play_data_level0.json\")\n",
    "sample_vector, sample_action = dataset[0]  \n",
    "print(f\"🔢 Sample Vector: {sample_vector.size()}\")\n",
    "print(f\"📊 Loaded {len(dataset)} samples.\")"
   ]
  },
  {
   "cell_type": "code",
   "execution_count": 32,
   "metadata": {},
   "outputs": [],
   "source": [
    "# Split into train and validation\n",
    "train_size = int(0.8 * len(dataset))\n",
    "val_size = len(dataset) - train_size\n",
    "train_dataset, val_dataset = torch.utils.data.random_split(dataset, [train_size, val_size])\n",
    "\n",
    "# Create dataloaders\n",
    "train_loader = DataLoader(train_dataset, batch_size=32, shuffle=True)\n",
    "val_loader = DataLoader(val_dataset, batch_size=32, shuffle=False)"
   ]
  },
  {
   "cell_type": "markdown",
   "metadata": {},
   "source": [
    "# Behavior Cloning Model"
   ]
  },
  {
   "cell_type": "code",
   "execution_count": 33,
   "metadata": {},
   "outputs": [],
   "source": [
    "import torch.nn as nn\n",
    "import torch.optim as optim"
   ]
  },
  {
   "cell_type": "code",
   "execution_count": 34,
   "metadata": {},
   "outputs": [],
   "source": [
    "# FNC Network for behavior cloning\n",
    "class BehaviorCloningModel(nn.Module):\n",
    "    def __init__(self, input_size, output_size):\n",
    "        super(BehaviorCloningModel, self).__init__()\n",
    "        self.fc = nn.Sequential(\n",
    "            nn.Linear(input_size, 128),\n",
    "            nn.ReLU(),\n",
    "            nn.Linear(128, 128),\n",
    "            nn.ReLU(),\n",
    "            nn.Linear(128, 128),\n",
    "            nn.ReLU(),\n",
    "            nn.Linear(128, 128),\n",
    "            nn.ReLU(),                    \n",
    "            nn.Linear(128, output_size)\n",
    "        )\n",
    "\n",
    "    def forward(self, x):\n",
    "        return self.fc(x)"
   ]
  },
  {
   "cell_type": "code",
   "execution_count": 26,
   "metadata": {},
   "outputs": [
    {
     "name": "stdout",
     "output_type": "stream",
     "text": [
      "input_size 191, output_size: 4\n"
     ]
    }
   ],
   "source": [
    "input_size = len(dataset[0][0])  # Size of State Vector\n",
    "output_size = 4  # Possible Actions (UP, DOWN, LEFT, RIGHT)\n",
    "model = BehaviorCloningModel(input_size, output_size)\n",
    "print(f\"input_size {input_size}, output_size: {output_size}\")"
   ]
  },
  {
   "cell_type": "markdown",
   "metadata": {},
   "source": [
    "## Training Loop"
   ]
  },
  {
   "cell_type": "code",
   "execution_count": 35,
   "metadata": {},
   "outputs": [],
   "source": [
    "training_config = {\n",
    "    \"epochs\": 500,\n",
    "    \"model_name\": \"BehaviorCloningModel\",\n",
    "    \"input_size\": input_size,\n",
    "    \"output_size\": output_size,\n",
    "    \"optimizer\": \"Adam\",\n",
    "    \"learning_rate\": 0.001,\n",
    "    \"batch_size\": 32,\n",
    "    \"criterion\": \"CrossEntropyLoss\",\n",
    "    \"activation\": \"ReLU\",\n",
    "    \"scheduler\": \"ReduceLROnPlateau\"\n",
    "}"
   ]
  },
  {
   "cell_type": "code",
   "execution_count": 37,
   "metadata": {},
   "outputs": [
    {
     "name": "stderr",
     "output_type": "stream",
     "text": [
      "\u001b[34m\u001b[1mwandb\u001b[0m: \u001b[33mWARNING\u001b[0m Calling wandb.login() after wandb.init() has no effect.\n"
     ]
    }
   ],
   "source": [
    "import wandb\n",
    "wandb.login(key=\"294ac5de6babc54da53b9aadb344b3bb173b314d\")\n",
    "# change name for each run\n",
    "wandb.init(project=\"bc_surrogate_partner_lv1\", name=\"level1_run_3.2\", config=training_config)\n",
    "wandb.config.update(training_config)"
   ]
  },
  {
   "cell_type": "code",
   "execution_count": 38,
   "metadata": {},
   "outputs": [
    {
     "name": "stderr",
     "output_type": "stream",
     "text": [
      "/opt/anaconda3/envs/marlenv/lib/python3.9/site-packages/torch/optim/lr_scheduler.py:62: UserWarning: The verbose parameter is deprecated. Please use get_last_lr() to access the learning rate.\n",
      "  warnings.warn(\n"
     ]
    }
   ],
   "source": [
    "# Loss and optimizer\n",
    "criterion = nn.CrossEntropyLoss()\n",
    "optimizer = optim.Adam(model.parameters(), lr=training_config[\"learning_rate\"])\n",
    "scheduler = ReduceLROnPlateau(optimizer, mode='min', factor=0.5, patience=20, verbose=True)"
   ]
  },
  {
   "cell_type": "code",
   "execution_count": 39,
   "metadata": {},
   "outputs": [
    {
     "name": "stdout",
     "output_type": "stream",
     "text": [
      "Epoch 10/500, Train Loss: 0.4280, Train Acc: 82.55%, Val Loss: 1.3342, Val Acc: 78.50%, LR: 0.001000\n",
      "Epoch 20/500, Train Loss: 0.3502, Train Acc: 85.36%, Val Loss: 1.4275, Val Acc: 74.77%, LR: 0.001000\n",
      "Epoch 30/500, Train Loss: 0.3404, Train Acc: 85.95%, Val Loss: 1.4519, Val Acc: 82.71%, LR: 0.000500\n",
      "Epoch 40/500, Train Loss: 0.2412, Train Acc: 90.75%, Val Loss: 1.5696, Val Acc: 81.78%, LR: 0.000500\n",
      "Epoch 50/500, Train Loss: 0.2431, Train Acc: 89.81%, Val Loss: 1.6175, Val Acc: 80.37%, LR: 0.000500\n",
      "Epoch 60/500, Train Loss: 0.2177, Train Acc: 91.22%, Val Loss: 1.6824, Val Acc: 80.84%, LR: 0.000250\n",
      "Epoch 70/500, Train Loss: 0.1920, Train Acc: 92.04%, Val Loss: 1.7597, Val Acc: 82.24%, LR: 0.000250\n",
      "Epoch 80/500, Train Loss: 0.1770, Train Acc: 92.04%, Val Loss: 1.8509, Val Acc: 81.78%, LR: 0.000125\n",
      "Epoch 90/500, Train Loss: 0.1714, Train Acc: 92.62%, Val Loss: 1.9197, Val Acc: 81.31%, LR: 0.000125\n",
      "Epoch 100/500, Train Loss: 0.1639, Train Acc: 92.74%, Val Loss: 1.9643, Val Acc: 81.31%, LR: 0.000063\n",
      "Epoch 110/500, Train Loss: 0.1619, Train Acc: 93.33%, Val Loss: 1.9889, Val Acc: 81.31%, LR: 0.000063\n",
      "Epoch 120/500, Train Loss: 0.1589, Train Acc: 93.21%, Val Loss: 2.0275, Val Acc: 81.31%, LR: 0.000031\n",
      "Epoch 130/500, Train Loss: 0.1564, Train Acc: 93.33%, Val Loss: 2.0422, Val Acc: 81.31%, LR: 0.000031\n",
      "Epoch 140/500, Train Loss: 0.1526, Train Acc: 93.21%, Val Loss: 2.0588, Val Acc: 81.31%, LR: 0.000016\n",
      "Epoch 150/500, Train Loss: 0.1533, Train Acc: 93.33%, Val Loss: 2.0725, Val Acc: 81.78%, LR: 0.000016\n",
      "Epoch 160/500, Train Loss: 0.1515, Train Acc: 93.56%, Val Loss: 2.0809, Val Acc: 81.78%, LR: 0.000008\n",
      "Epoch 170/500, Train Loss: 0.1511, Train Acc: 93.44%, Val Loss: 2.0877, Val Acc: 82.24%, LR: 0.000008\n",
      "Epoch 180/500, Train Loss: 0.1521, Train Acc: 93.79%, Val Loss: 2.0927, Val Acc: 82.24%, LR: 0.000004\n",
      "Epoch 190/500, Train Loss: 0.1505, Train Acc: 93.79%, Val Loss: 2.0967, Val Acc: 81.78%, LR: 0.000004\n",
      "Epoch 200/500, Train Loss: 0.1506, Train Acc: 93.91%, Val Loss: 2.0996, Val Acc: 81.78%, LR: 0.000002\n",
      "Epoch 210/500, Train Loss: 0.1491, Train Acc: 93.91%, Val Loss: 2.1018, Val Acc: 81.78%, LR: 0.000002\n",
      "Epoch 220/500, Train Loss: 0.1488, Train Acc: 93.91%, Val Loss: 2.1034, Val Acc: 81.78%, LR: 0.000001\n",
      "Epoch 230/500, Train Loss: 0.1503, Train Acc: 93.91%, Val Loss: 2.1045, Val Acc: 81.78%, LR: 0.000001\n",
      "Epoch 240/500, Train Loss: 0.1491, Train Acc: 93.79%, Val Loss: 2.1054, Val Acc: 81.78%, LR: 0.000000\n",
      "Epoch 250/500, Train Loss: 0.1492, Train Acc: 93.91%, Val Loss: 2.1058, Val Acc: 81.78%, LR: 0.000000\n",
      "Epoch 260/500, Train Loss: 0.1489, Train Acc: 93.91%, Val Loss: 2.1063, Val Acc: 81.78%, LR: 0.000000\n",
      "Epoch 270/500, Train Loss: 0.1500, Train Acc: 93.91%, Val Loss: 2.1065, Val Acc: 81.78%, LR: 0.000000\n",
      "Epoch 280/500, Train Loss: 0.1495, Train Acc: 93.79%, Val Loss: 2.1069, Val Acc: 81.78%, LR: 0.000000\n",
      "Epoch 290/500, Train Loss: 0.1486, Train Acc: 93.91%, Val Loss: 2.1070, Val Acc: 81.78%, LR: 0.000000\n",
      "Epoch 300/500, Train Loss: 0.1510, Train Acc: 93.91%, Val Loss: 2.1071, Val Acc: 81.78%, LR: 0.000000\n",
      "Epoch 310/500, Train Loss: 0.1487, Train Acc: 93.91%, Val Loss: 2.1072, Val Acc: 81.78%, LR: 0.000000\n",
      "Epoch 320/500, Train Loss: 0.1496, Train Acc: 93.91%, Val Loss: 2.1073, Val Acc: 81.78%, LR: 0.000000\n",
      "Epoch 330/500, Train Loss: 0.1505, Train Acc: 93.91%, Val Loss: 2.1073, Val Acc: 81.78%, LR: 0.000000\n",
      "Epoch 340/500, Train Loss: 0.1499, Train Acc: 93.91%, Val Loss: 2.1073, Val Acc: 81.78%, LR: 0.000000\n",
      "Epoch 350/500, Train Loss: 0.1485, Train Acc: 93.91%, Val Loss: 2.1074, Val Acc: 81.78%, LR: 0.000000\n",
      "Epoch 360/500, Train Loss: 0.1504, Train Acc: 93.91%, Val Loss: 2.1074, Val Acc: 81.78%, LR: 0.000000\n",
      "Epoch 370/500, Train Loss: 0.1502, Train Acc: 93.91%, Val Loss: 2.1074, Val Acc: 81.78%, LR: 0.000000\n",
      "Epoch 380/500, Train Loss: 0.1510, Train Acc: 93.91%, Val Loss: 2.1074, Val Acc: 81.78%, LR: 0.000000\n",
      "Epoch 390/500, Train Loss: 0.1504, Train Acc: 93.91%, Val Loss: 2.1074, Val Acc: 81.78%, LR: 0.000000\n",
      "Epoch 400/500, Train Loss: 0.1486, Train Acc: 93.91%, Val Loss: 2.1074, Val Acc: 81.78%, LR: 0.000000\n",
      "Epoch 410/500, Train Loss: 0.1493, Train Acc: 93.91%, Val Loss: 2.1074, Val Acc: 81.78%, LR: 0.000000\n",
      "Epoch 420/500, Train Loss: 0.1496, Train Acc: 93.91%, Val Loss: 2.1074, Val Acc: 81.78%, LR: 0.000000\n",
      "Epoch 430/500, Train Loss: 0.1498, Train Acc: 93.91%, Val Loss: 2.1074, Val Acc: 81.78%, LR: 0.000000\n",
      "Epoch 440/500, Train Loss: 0.1499, Train Acc: 93.91%, Val Loss: 2.1075, Val Acc: 81.78%, LR: 0.000000\n",
      "Epoch 450/500, Train Loss: 0.1490, Train Acc: 93.91%, Val Loss: 2.1075, Val Acc: 81.78%, LR: 0.000000\n",
      "Epoch 460/500, Train Loss: 0.1507, Train Acc: 93.91%, Val Loss: 2.1075, Val Acc: 81.78%, LR: 0.000000\n",
      "Epoch 470/500, Train Loss: 0.1506, Train Acc: 93.91%, Val Loss: 2.1075, Val Acc: 81.78%, LR: 0.000000\n",
      "Epoch 480/500, Train Loss: 0.1491, Train Acc: 93.91%, Val Loss: 2.1075, Val Acc: 81.78%, LR: 0.000000\n",
      "Epoch 490/500, Train Loss: 0.1508, Train Acc: 93.91%, Val Loss: 2.1075, Val Acc: 81.78%, LR: 0.000000\n",
      "Epoch 500/500, Train Loss: 0.1493, Train Acc: 93.91%, Val Loss: 2.1075, Val Acc: 81.78%, LR: 0.000000\n"
     ]
    },
    {
     "data": {
      "text/html": [],
      "text/plain": [
       "<IPython.core.display.HTML object>"
      ]
     },
     "metadata": {},
     "output_type": "display_data"
    },
    {
     "data": {
      "text/html": [
       "<br>    <style><br>        .wandb-row {<br>            display: flex;<br>            flex-direction: row;<br>            flex-wrap: wrap;<br>            justify-content: flex-start;<br>            width: 100%;<br>        }<br>        .wandb-col {<br>            display: flex;<br>            flex-direction: column;<br>            flex-basis: 100%;<br>            flex: 1;<br>            padding: 10px;<br>        }<br>    </style><br><div class=\"wandb-row\"><div class=\"wandb-col\"><h3>Run history:</h3><br/><table class=\"wandb\"><tr><td>epoch</td><td>▁▁▁▁▁▂▂▂▂▂▃▃▃▄▄▄▄▄▄▄▅▅▅▅▅▆▆▆▆▆▆▆▆▆▇▇▇███</td></tr><tr><td>learning_rate</td><td>███▄▄▄▂▁▁▁▁▁▁▁▁▁▁▁▁▁▁▁▁▁▁▁▁▁▁▁▁▁▁▁▁▁▁▁▁▁</td></tr><tr><td>train_accuracy</td><td>▁▂▄▇▆▇▇▇▇▇██████████████████████████████</td></tr><tr><td>train_loss</td><td>█▇█▆▄▂▂▂▂▂▂▁▁▁▁▁▁▁▁▁▁▁▁▁▁▁▁▁▁▁▁▁▁▁▁▁▁▁▁▁</td></tr><tr><td>val_accuracy</td><td>▄▆▃▁▃▇▇▇█▇▇█████████████████████████████</td></tr><tr><td>val_loss</td><td>▁▂▃▅▅▆▆▇▇▇██████████████████████████████</td></tr></table><br/></div><div class=\"wandb-col\"><h3>Run summary:</h3><br/><table class=\"wandb\"><tr><td>epoch</td><td>500</td></tr><tr><td>learning_rate</td><td>0.0</td></tr><tr><td>train_accuracy</td><td>93.91101</td></tr><tr><td>train_loss</td><td>0.14925</td></tr><tr><td>val_accuracy</td><td>81.7757</td></tr><tr><td>val_loss</td><td>2.10753</td></tr></table><br/></div></div>"
      ],
      "text/plain": [
       "<IPython.core.display.HTML object>"
      ]
     },
     "metadata": {},
     "output_type": "display_data"
    },
    {
     "data": {
      "text/html": [
       " View run <strong style=\"color:#cdcd00\">level1_run_3.1</strong> at: <a href='https://wandb.ai/knocknocknik-pitts/bc_surrogate_partner_lv1/runs/vh1h3hjm' target=\"_blank\">https://wandb.ai/knocknocknik-pitts/bc_surrogate_partner_lv1/runs/vh1h3hjm</a><br> View project at: <a href='https://wandb.ai/knocknocknik-pitts/bc_surrogate_partner_lv1' target=\"_blank\">https://wandb.ai/knocknocknik-pitts/bc_surrogate_partner_lv1</a><br>Synced 5 W&B file(s), 0 media file(s), 0 artifact file(s) and 0 other file(s)"
      ],
      "text/plain": [
       "<IPython.core.display.HTML object>"
      ]
     },
     "metadata": {},
     "output_type": "display_data"
    },
    {
     "data": {
      "text/html": [
       "Find logs at: <code>./wandb/run-20250307_141856-vh1h3hjm/logs</code>"
      ],
      "text/plain": [
       "<IPython.core.display.HTML object>"
      ]
     },
     "metadata": {},
     "output_type": "display_data"
    }
   ],
   "source": [
    "# Training loop\n",
    "for epoch in range(training_config[\"epochs\"]):\n",
    "    # Training phase\n",
    "    model.train()\n",
    "    train_loss = 0.0\n",
    "    train_correct = 0\n",
    "    train_total = 0\n",
    "    \n",
    "    for state_vectors, actions in train_loader:\n",
    "        optimizer.zero_grad()\n",
    "        outputs = model(state_vectors)\n",
    "        loss = criterion(outputs, actions)\n",
    "        loss.backward()\n",
    "        optimizer.step()\n",
    "        \n",
    "        train_loss += loss.item()\n",
    "        _, predicted = torch.max(outputs.data, 1)\n",
    "        train_total += actions.size(0)\n",
    "        train_correct += (predicted == actions).sum().item()\n",
    "    \n",
    "    train_loss = train_loss / len(train_loader)\n",
    "    train_accuracy = 100 * train_correct / train_total\n",
    "    \n",
    "    # Validation phase\n",
    "    model.eval()\n",
    "    val_loss = 0.0\n",
    "    val_correct = 0\n",
    "    val_total = 0\n",
    "    \n",
    "    with torch.no_grad():\n",
    "        for state_vectors, actions in val_loader:\n",
    "            outputs = model(state_vectors)\n",
    "            loss = criterion(outputs, actions)\n",
    "            \n",
    "            val_loss += loss.item()\n",
    "            _, predicted = torch.max(outputs.data, 1)\n",
    "            val_total += actions.size(0)\n",
    "            val_correct += (predicted == actions).sum().item()\n",
    "    \n",
    "    val_loss = val_loss / len(val_loader)\n",
    "    val_accuracy = 100 * val_correct / val_total\n",
    "    \n",
    "    # Update learning rate\n",
    "    scheduler.step(val_loss)\n",
    "    \n",
    "    # Log metrics\n",
    "    wandb.log({\n",
    "        \"epoch\": epoch + 1,\n",
    "        \"train_loss\": train_loss,\n",
    "        \"train_accuracy\": train_accuracy,\n",
    "        \"val_loss\": val_loss,\n",
    "        \"val_accuracy\": val_accuracy,\n",
    "        \"learning_rate\": optimizer.param_groups[0][\"lr\"]\n",
    "    })\n",
    "    \n",
    "    # Print progress\n",
    "    if (epoch + 1) % 10 == 0:\n",
    "        print(f\"Epoch {epoch+1}/{training_config['epochs']}, \"\n",
    "              f\"Train Loss: {train_loss:.4f}, Train Acc: {train_accuracy:.2f}%, \"\n",
    "              f\"Val Loss: {val_loss:.4f}, Val Acc: {val_accuracy:.2f}%, \"\n",
    "              f\"LR: {optimizer.param_groups[0]['lr']:.6f}\")\n",
    "\n",
    "# Close wandb\n",
    "wandb.finish()"
   ]
  },
  {
   "cell_type": "code",
   "execution_count": 40,
   "metadata": {},
   "outputs": [
    {
     "name": "stdout",
     "output_type": "stream",
     "text": [
      "Model saved to ../model/lv1_bc_model_3.2.pth\n"
     ]
    }
   ],
   "source": [
    "# Model save directory\n",
    "model_path = \"../model/lv1_bc_model_3.2.pth\"\n",
    "# Save model\n",
    "torch.save(model.state_dict(), model_path)\n",
    "print(\"Model saved to \" + model_path)"
   ]
  },
  {
   "cell_type": "code",
   "execution_count": 24,
   "metadata": {},
   "outputs": [
    {
     "name": "stdout",
     "output_type": "stream",
     "text": [
      "AI Predicted Action: LEFT\n"
     ]
    },
    {
     "name": "stderr",
     "output_type": "stream",
     "text": [
      "/var/folders/jk/fgtqjbt14jg00g8k4jkjl6_40000gn/T/ipykernel_6592/3803181024.py:4: UserWarning: To copy construct from a tensor, it is recommended to use sourceTensor.clone().detach() or sourceTensor.clone().detach().requires_grad_(True), rather than torch.tensor(sourceTensor).\n",
      "  state_vector = torch.tensor(state, dtype=torch.float32).unsqueeze(0)\n"
     ]
    }
   ],
   "source": [
    "def predict_action(model, state):\n",
    "    model.eval()\n",
    "    with torch.no_grad():\n",
    "        state_vector = torch.tensor(state, dtype=torch.float32).unsqueeze(0)\n",
    "        output = model(state_vector)\n",
    "        action_idx = torch.argmax(output).item()\n",
    "    \n",
    "    action_mapping = {0: \"UP\", 1: \"DOWN\", 2: \"LEFT\", 3: \"RIGHT\"}\n",
    "    return action_mapping[action_idx]\n",
    "\n",
    "test_state, _ = dataset[5]  # Check the first sample in the dataset\n",
    "predicted_action = predict_action(model, test_state)\n",
    "print(f\"AI Predicted Action: {predicted_action}\")"
   ]
  }
 ],
 "metadata": {
  "kernelspec": {
   "display_name": "marlenv",
   "language": "python",
   "name": "python3"
  },
  "language_info": {
   "codemirror_mode": {
    "name": "ipython",
    "version": 3
   },
   "file_extension": ".py",
   "mimetype": "text/x-python",
   "name": "python",
   "nbconvert_exporter": "python",
   "pygments_lexer": "ipython3",
   "version": "3.9.19"
  }
 },
 "nbformat": 4,
 "nbformat_minor": 2
}
