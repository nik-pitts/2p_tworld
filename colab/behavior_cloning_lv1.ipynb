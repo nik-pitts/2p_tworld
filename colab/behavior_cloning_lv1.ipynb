{
 "cells": [
  {
   "cell_type": "code",
   "execution_count": 1,
   "metadata": {},
   "outputs": [],
   "source": [
    "import json\n",
    "import sys\n",
    "import os\n",
    "# Add the parent directory to sys.path\n",
    "sys.path.append(os.path.abspath('..'))\n",
    "from src.tile_definitions import TILE_MAPPING\n",
    "\n",
    "import torch\n",
    "from torch.utils.data import Dataset, DataLoader\n",
    "from torch.optim.lr_scheduler import StepLR, ReduceLROnPlateau"
   ]
  },
  {
   "cell_type": "markdown",
   "metadata": {},
   "source": [
    "# Dataset Class"
   ]
  },
  {
   "cell_type": "code",
   "execution_count": 2,
   "metadata": {},
   "outputs": [],
   "source": [
    "class Level1GameDataset(Dataset):\n",
    "    def __init__(self, json_file):\n",
    "        with open(json_file, \"r\") as f:\n",
    "            self.data = json.load(f)\n",
    "            \n",
    "        print(f\"Loaded {len(self.data)} gameplay samples from {json_file}\")\n",
    "        \n",
    "        # Action to integer mapping\n",
    "        self.action_mapping = {\"UP\": 0, \"DOWN\": 1, \"LEFT\": 2, \"RIGHT\": 3}\n",
    "\n",
    "        # Create reverse mapping (tile_type -> ID) from TILE_MAPPING\n",
    "        self.tile_type_to_id = {}\n",
    "        for tile_id, (tile_type, _, _, _, _) in TILE_MAPPING.items():\n",
    "            self.tile_type_to_id[tile_type] = tile_id\n",
    "            \n",
    "    def __len__(self):\n",
    "        return len(self.data)\n",
    "    \n",
    "    def __getitem__(self, idx):\n",
    "        sample = self.data[idx]\n",
    "        state = sample[\"state\"]\n",
    "        action = self.action_mapping[sample[\"action\"]]\n",
    "        \n",
    "        # Extract state components\n",
    "        position = torch.tensor(state[\"position\"], dtype=torch.float32)\n",
    "        chips_collected = torch.tensor([state[\"player_collected_chips\"]], dtype=torch.float32)\n",
    "        total_chips_collected = torch.tensor([state[\"total_collected_chips\"]], dtype=torch.float32)\n",
    "        socket_unlocked = torch.tensor([int(state[\"socket_unlocked\"])], dtype=torch.float32)\n",
    "        nearest_chip = torch.tensor(state[\"nearest_chip\"], dtype=torch.float32)\n",
    "        exit_location = torch.tensor(state[\"exit_position\"], dtype=torch.float32)\n",
    "        \n",
    "        # Process the full grid\n",
    "        full_grid = []\n",
    "        for row in state[\"full_grid\"]:\n",
    "            processed_row = []\n",
    "            for tile_type in row:\n",
    "                # Map to integer using the updated tile definitions\n",
    "                processed_row.append(self.tile_type_to_id.get(tile_type, 1))\n",
    "            full_grid.append(processed_row)\n",
    "        \n",
    "        full_grid_tensor = torch.tensor(full_grid, dtype=torch.float32)\n",
    "        \n",
    "        local_grid = []\n",
    "        for row in state[\"local_grid\"]:\n",
    "            processed_row = []\n",
    "            for tile_type in row:\n",
    "                # Map to integer using the updated tile definitions\n",
    "                processed_row.append(self.tile_type_to_id.get(tile_type, 1))\n",
    "            local_grid.append(processed_row)\n",
    "        \n",
    "        local_grid_tensor = torch.tensor(local_grid, dtype=torch.float32)\n",
    "        \n",
    "        # Additional state information\n",
    "        alive = torch.tensor([float(state.get(\"alive\", True))], dtype=torch.float32)\n",
    "        remaining_chips = torch.tensor([state.get(\"remaining_chips\", 0)], dtype=torch.float32)\n",
    "        other_player_pos = torch.tensor(state.get(\"other_player_position\", [-1, -1]), dtype=torch.float32)\n",
    "        \n",
    "        # Concatenate all state information into a single vector\n",
    "        state_vector = torch.cat([\n",
    "            position,\n",
    "            chips_collected, \n",
    "            total_chips_collected,\n",
    "            socket_unlocked,\n",
    "            nearest_chip,\n",
    "            exit_location,\n",
    "            full_grid_tensor.flatten(),\n",
    "            local_grid_tensor.flatten(),\n",
    "            alive,\n",
    "            remaining_chips,\n",
    "            other_player_pos\n",
    "        ])\n",
    "        \n",
    "        return state_vector, torch.tensor(action, dtype=torch.long)"
   ]
  },
  {
   "cell_type": "markdown",
   "metadata": {},
   "source": [
    "## Load Dataset and Test"
   ]
  },
  {
   "cell_type": "code",
   "execution_count": 38,
   "metadata": {},
   "outputs": [
    {
     "name": "stdout",
     "output_type": "stream",
     "text": [
      "Loaded 10052 gameplay samples from ../data/human_play_data_level0.json\n",
      "🔢 Sample Vector: torch.Size([191])\n",
      "📊 Loaded 10052 samples.\n"
     ]
    }
   ],
   "source": [
    "dataset = Level1GameDataset(\"../data/human_play_data_level0.json\")\n",
    "sample_vector, sample_action = dataset[0]  \n",
    "print(f\"🔢 Sample Vector: {sample_vector.size()}\")\n",
    "print(f\"📊 Loaded {len(dataset)} samples.\")"
   ]
  },
  {
   "cell_type": "code",
   "execution_count": 39,
   "metadata": {},
   "outputs": [],
   "source": [
    "# Split into train and validation\n",
    "train_size = int(0.8 * len(dataset))\n",
    "val_size = len(dataset) - train_size\n",
    "train_dataset, val_dataset = torch.utils.data.random_split(dataset, [train_size, val_size])\n",
    "\n",
    "# Create dataloaders\n",
    "train_loader = DataLoader(train_dataset, batch_size=32, shuffle=True)\n",
    "val_loader = DataLoader(val_dataset, batch_size=32, shuffle=False)"
   ]
  },
  {
   "cell_type": "markdown",
   "metadata": {},
   "source": [
    "# Behavior Cloning Model"
   ]
  },
  {
   "cell_type": "code",
   "execution_count": 5,
   "metadata": {},
   "outputs": [],
   "source": [
    "import torch.nn as nn\n",
    "import torch.optim as optim"
   ]
  },
  {
   "cell_type": "code",
   "execution_count": 55,
   "metadata": {},
   "outputs": [],
   "source": [
    "# FNC Network for behavior cloning\n",
    "class BehaviorCloningModel(nn.Module):\n",
    "    def __init__(self, input_size, output_size):\n",
    "        super(BehaviorCloningModel, self).__init__()\n",
    "        self.fc = nn.Sequential(\n",
    "            nn.Linear(input_size, 128),\n",
    "            nn.ReLU(),\n",
    "            nn.Linear(128, 128),\n",
    "            nn.ReLU(),\n",
    "            nn.Linear(128, 128),\n",
    "            nn.ReLU(),\n",
    "            nn.Linear(128, 128),\n",
    "            nn.ReLU(),                    \n",
    "            nn.Linear(128, output_size)\n",
    "        )\n",
    "\n",
    "    def forward(self, x):\n",
    "        return self.fc(x)"
   ]
  },
  {
   "cell_type": "code",
   "execution_count": 56,
   "metadata": {},
   "outputs": [
    {
     "name": "stdout",
     "output_type": "stream",
     "text": [
      "input_size 191, output_size: 4\n"
     ]
    }
   ],
   "source": [
    "input_size = len(dataset[0][0])  # Size of State Vector\n",
    "output_size = 4  # Possible Actions (UP, DOWN, LEFT, RIGHT)\n",
    "model = BehaviorCloningModel(input_size, output_size)\n",
    "print(f\"input_size {input_size}, output_size: {output_size}\")"
   ]
  },
  {
   "cell_type": "markdown",
   "metadata": {},
   "source": [
    "## Training Loop"
   ]
  },
  {
   "cell_type": "code",
   "execution_count": 57,
   "metadata": {},
   "outputs": [],
   "source": [
    "training_config = {\n",
    "    \"epochs\": 300,\n",
    "    \"model_name\": \"BehaviorCloningModel\",\n",
    "    \"input_size\": input_size,\n",
    "    \"output_size\": output_size,\n",
    "    \"optimizer\": \"Adam\",\n",
    "    \"learning_rate\": 0.001,\n",
    "    \"batch_size\": 32,\n",
    "    \"criterion\": \"CrossEntropyLoss\",\n",
    "    \"activation\": \"ReLU\",\n",
    "    \"scheduler\": \"ReduceLROnPlateau\"\n",
    "}"
   ]
  },
  {
   "cell_type": "code",
   "execution_count": 58,
   "metadata": {},
   "outputs": [
    {
     "name": "stderr",
     "output_type": "stream",
     "text": [
      "\u001b[34m\u001b[1mwandb\u001b[0m: \u001b[33mWARNING\u001b[0m If you're specifying your api key in code, ensure this code is not shared publicly.\n",
      "\u001b[34m\u001b[1mwandb\u001b[0m: \u001b[33mWARNING\u001b[0m Consider setting the WANDB_API_KEY environment variable, or running `wandb login` from the command line.\n",
      "\u001b[34m\u001b[1mwandb\u001b[0m: Appending key for api.wandb.ai to your netrc file: /Users/neo/.netrc\n"
     ]
    },
    {
     "data": {
      "text/html": [
       "Tracking run with wandb version 0.19.7"
      ],
      "text/plain": [
       "<IPython.core.display.HTML object>"
      ]
     },
     "metadata": {},
     "output_type": "display_data"
    },
    {
     "data": {
      "text/html": [
       "Run data is saved locally in <code>/Users/neo/gym-workspace/2p_tworld/colab/wandb/run-20250308_000800-ya8qc1x6</code>"
      ],
      "text/plain": [
       "<IPython.core.display.HTML object>"
      ]
     },
     "metadata": {},
     "output_type": "display_data"
    },
    {
     "data": {
      "text/html": [
       "Syncing run <strong><a href='https://wandb.ai/knocknocknik-pitts/bc_surrogate_partner_lv1/runs/ya8qc1x6' target=\"_blank\">level1_run_3.8</a></strong> to <a href='https://wandb.ai/knocknocknik-pitts/bc_surrogate_partner_lv1' target=\"_blank\">Weights & Biases</a> (<a href='https://wandb.me/developer-guide' target=\"_blank\">docs</a>)<br>"
      ],
      "text/plain": [
       "<IPython.core.display.HTML object>"
      ]
     },
     "metadata": {},
     "output_type": "display_data"
    },
    {
     "data": {
      "text/html": [
       " View project at <a href='https://wandb.ai/knocknocknik-pitts/bc_surrogate_partner_lv1' target=\"_blank\">https://wandb.ai/knocknocknik-pitts/bc_surrogate_partner_lv1</a>"
      ],
      "text/plain": [
       "<IPython.core.display.HTML object>"
      ]
     },
     "metadata": {},
     "output_type": "display_data"
    },
    {
     "data": {
      "text/html": [
       " View run at <a href='https://wandb.ai/knocknocknik-pitts/bc_surrogate_partner_lv1/runs/ya8qc1x6' target=\"_blank\">https://wandb.ai/knocknocknik-pitts/bc_surrogate_partner_lv1/runs/ya8qc1x6</a>"
      ],
      "text/plain": [
       "<IPython.core.display.HTML object>"
      ]
     },
     "metadata": {},
     "output_type": "display_data"
    }
   ],
   "source": [
    "import wandb\n",
    "wandb.login(key=\"294ac5de6babc54da53b9aadb344b3bb173b314d\")\n",
    "# change name for each run\n",
    "wandb.init(project=\"bc_surrogate_partner_lv1\", name=\"level1_run_3.8\", config=training_config)\n",
    "wandb.config.update(training_config)"
   ]
  },
  {
   "cell_type": "code",
   "execution_count": 59,
   "metadata": {},
   "outputs": [
    {
     "name": "stderr",
     "output_type": "stream",
     "text": [
      "/opt/anaconda3/envs/marlenv/lib/python3.9/site-packages/torch/optim/lr_scheduler.py:62: UserWarning: The verbose parameter is deprecated. Please use get_last_lr() to access the learning rate.\n",
      "  warnings.warn(\n"
     ]
    }
   ],
   "source": [
    "# Loss and optimizer\n",
    "criterion = nn.CrossEntropyLoss()\n",
    "optimizer = optim.Adam(model.parameters(), lr=training_config[\"learning_rate\"])\n",
    "scheduler = ReduceLROnPlateau(optimizer, mode='min', factor=0.5, patience=20, verbose=True)"
   ]
  },
  {
   "cell_type": "code",
   "execution_count": 60,
   "metadata": {},
   "outputs": [
    {
     "name": "stdout",
     "output_type": "stream",
     "text": [
      "Epoch 10/300, Train Loss: 0.7237, Train Acc: 71.16%, Val Loss: 0.7280, Val Acc: 71.76%, LR: 0.001000\n",
      "Epoch 20/300, Train Loss: 0.4443, Train Acc: 82.75%, Val Loss: 0.5123, Val Acc: 82.65%, LR: 0.001000\n",
      "Epoch 30/300, Train Loss: 0.3816, Train Acc: 85.19%, Val Loss: 0.4793, Val Acc: 85.83%, LR: 0.001000\n",
      "Epoch 40/300, Train Loss: 0.3716, Train Acc: 85.39%, Val Loss: 0.4762, Val Acc: 86.47%, LR: 0.001000\n",
      "Epoch 50/300, Train Loss: 0.3371, Train Acc: 86.85%, Val Loss: 0.7341, Val Acc: 81.10%, LR: 0.001000\n",
      "Epoch 60/300, Train Loss: 0.2785, Train Acc: 88.72%, Val Loss: 0.5645, Val Acc: 87.02%, LR: 0.000500\n",
      "Epoch 70/300, Train Loss: 0.2697, Train Acc: 88.63%, Val Loss: 0.5673, Val Acc: 87.92%, LR: 0.000500\n",
      "Epoch 80/300, Train Loss: 0.2360, Train Acc: 89.89%, Val Loss: 0.6508, Val Acc: 87.37%, LR: 0.000250\n",
      "Epoch 90/300, Train Loss: 0.2324, Train Acc: 89.80%, Val Loss: 0.6703, Val Acc: 87.77%, LR: 0.000250\n",
      "Epoch 100/300, Train Loss: 0.2132, Train Acc: 90.55%, Val Loss: 0.7465, Val Acc: 87.42%, LR: 0.000125\n",
      "Epoch 110/300, Train Loss: 0.2072, Train Acc: 90.51%, Val Loss: 0.7783, Val Acc: 87.52%, LR: 0.000125\n",
      "Epoch 120/300, Train Loss: 0.1975, Train Acc: 91.12%, Val Loss: 0.8344, Val Acc: 87.12%, LR: 0.000063\n",
      "Epoch 130/300, Train Loss: 0.1943, Train Acc: 91.29%, Val Loss: 0.8643, Val Acc: 86.87%, LR: 0.000063\n",
      "Epoch 140/300, Train Loss: 0.1886, Train Acc: 91.47%, Val Loss: 0.8932, Val Acc: 86.92%, LR: 0.000031\n",
      "Epoch 150/300, Train Loss: 0.1874, Train Acc: 91.47%, Val Loss: 0.9100, Val Acc: 87.12%, LR: 0.000031\n",
      "Epoch 160/300, Train Loss: 0.1838, Train Acc: 91.77%, Val Loss: 0.9306, Val Acc: 87.02%, LR: 0.000016\n",
      "Epoch 170/300, Train Loss: 0.1830, Train Acc: 91.74%, Val Loss: 0.9397, Val Acc: 86.82%, LR: 0.000016\n",
      "Epoch 180/300, Train Loss: 0.1808, Train Acc: 91.83%, Val Loss: 0.9492, Val Acc: 86.82%, LR: 0.000008\n",
      "Epoch 190/300, Train Loss: 0.1801, Train Acc: 91.92%, Val Loss: 0.9564, Val Acc: 86.82%, LR: 0.000008\n",
      "Epoch 200/300, Train Loss: 0.1801, Train Acc: 91.93%, Val Loss: 0.9613, Val Acc: 86.77%, LR: 0.000004\n",
      "Epoch 210/300, Train Loss: 0.1793, Train Acc: 91.97%, Val Loss: 0.9637, Val Acc: 86.77%, LR: 0.000004\n",
      "Epoch 220/300, Train Loss: 0.1788, Train Acc: 91.95%, Val Loss: 0.9664, Val Acc: 86.72%, LR: 0.000004\n",
      "Epoch 230/300, Train Loss: 0.1786, Train Acc: 91.98%, Val Loss: 0.9688, Val Acc: 86.72%, LR: 0.000002\n",
      "Epoch 240/300, Train Loss: 0.1795, Train Acc: 91.95%, Val Loss: 0.9697, Val Acc: 86.72%, LR: 0.000002\n",
      "Epoch 250/300, Train Loss: 0.1788, Train Acc: 92.00%, Val Loss: 0.9709, Val Acc: 86.72%, LR: 0.000001\n",
      "Epoch 260/300, Train Loss: 0.1787, Train Acc: 91.98%, Val Loss: 0.9717, Val Acc: 86.72%, LR: 0.000001\n",
      "Epoch 270/300, Train Loss: 0.1778, Train Acc: 92.00%, Val Loss: 0.9722, Val Acc: 86.72%, LR: 0.000000\n",
      "Epoch 280/300, Train Loss: 0.1778, Train Acc: 91.99%, Val Loss: 0.9725, Val Acc: 86.72%, LR: 0.000000\n",
      "Epoch 290/300, Train Loss: 0.1777, Train Acc: 91.99%, Val Loss: 0.9728, Val Acc: 86.72%, LR: 0.000000\n",
      "Epoch 300/300, Train Loss: 0.1782, Train Acc: 92.03%, Val Loss: 0.9729, Val Acc: 86.72%, LR: 0.000000\n"
     ]
    },
    {
     "data": {
      "text/html": [],
      "text/plain": [
       "<IPython.core.display.HTML object>"
      ]
     },
     "metadata": {},
     "output_type": "display_data"
    },
    {
     "data": {
      "text/html": [
       "<br>    <style><br>        .wandb-row {<br>            display: flex;<br>            flex-direction: row;<br>            flex-wrap: wrap;<br>            justify-content: flex-start;<br>            width: 100%;<br>        }<br>        .wandb-col {<br>            display: flex;<br>            flex-direction: column;<br>            flex-basis: 100%;<br>            flex: 1;<br>            padding: 10px;<br>        }<br>    </style><br><div class=\"wandb-row\"><div class=\"wandb-col\"><h3>Run history:</h3><br/><table class=\"wandb\"><tr><td>epoch</td><td>▁▁▁▁▁▁▁▁▂▂▂▂▂▂▃▃▃▄▄▄▅▅▅▅▅▆▆▆▆▆▇▇▇▇▇▇████</td></tr><tr><td>learning_rate</td><td>█████████▄▄▄▃▂▁▁▁▁▁▁▁▁▁▁▁▁▁▁▁▁▁▁▁▁▁▁▁▁▁▁</td></tr><tr><td>train_accuracy</td><td>▁▅▆▇▇▇▇▇▇███████████████████████████████</td></tr><tr><td>train_loss</td><td>█▇▄▃▃▂▂▂▂▁▁▁▁▁▁▁▁▁▁▁▁▁▁▁▁▁▁▁▁▁▁▁▁▁▁▁▁▁▁▁</td></tr><tr><td>val_accuracy</td><td>▁▅▇▇▇█▇█████████████████████████████████</td></tr><tr><td>val_loss</td><td>█▂▁▁▁▁▁▂▂▂▂▃▃▄▅▆▆▆▆▆▇▇▇▇▇▇▇▇▇▇▇▇▇▇▇▇▇▇▇▇</td></tr></table><br/></div><div class=\"wandb-col\"><h3>Run summary:</h3><br/><table class=\"wandb\"><tr><td>epoch</td><td>300</td></tr><tr><td>learning_rate</td><td>0.0</td></tr><tr><td>train_accuracy</td><td>92.02835</td></tr><tr><td>train_loss</td><td>0.17822</td></tr><tr><td>val_accuracy</td><td>86.72302</td></tr><tr><td>val_loss</td><td>0.97292</td></tr></table><br/></div></div>"
      ],
      "text/plain": [
       "<IPython.core.display.HTML object>"
      ]
     },
     "metadata": {},
     "output_type": "display_data"
    },
    {
     "data": {
      "text/html": [
       " View run <strong style=\"color:#cdcd00\">level1_run_3.8</strong> at: <a href='https://wandb.ai/knocknocknik-pitts/bc_surrogate_partner_lv1/runs/ya8qc1x6' target=\"_blank\">https://wandb.ai/knocknocknik-pitts/bc_surrogate_partner_lv1/runs/ya8qc1x6</a><br> View project at: <a href='https://wandb.ai/knocknocknik-pitts/bc_surrogate_partner_lv1' target=\"_blank\">https://wandb.ai/knocknocknik-pitts/bc_surrogate_partner_lv1</a><br>Synced 5 W&B file(s), 0 media file(s), 0 artifact file(s) and 0 other file(s)"
      ],
      "text/plain": [
       "<IPython.core.display.HTML object>"
      ]
     },
     "metadata": {},
     "output_type": "display_data"
    },
    {
     "data": {
      "text/html": [
       "Find logs at: <code>./wandb/run-20250308_000800-ya8qc1x6/logs</code>"
      ],
      "text/plain": [
       "<IPython.core.display.HTML object>"
      ]
     },
     "metadata": {},
     "output_type": "display_data"
    }
   ],
   "source": [
    "# Training loop\n",
    "for epoch in range(training_config[\"epochs\"]):\n",
    "    # Training phase\n",
    "    model.train()\n",
    "    train_loss = 0.0\n",
    "    train_correct = 0\n",
    "    train_total = 0\n",
    "    \n",
    "    for state_vectors, actions in train_loader:\n",
    "        optimizer.zero_grad()\n",
    "        outputs = model(state_vectors)\n",
    "        loss = criterion(outputs, actions)\n",
    "        loss.backward()\n",
    "        optimizer.step()\n",
    "        \n",
    "        train_loss += loss.item()\n",
    "        _, predicted = torch.max(outputs.data, 1)\n",
    "        train_total += actions.size(0)\n",
    "        train_correct += (predicted == actions).sum().item()\n",
    "    \n",
    "    train_loss = train_loss / len(train_loader)\n",
    "    train_accuracy = 100 * train_correct / train_total\n",
    "    \n",
    "    # Validation phase\n",
    "    model.eval()\n",
    "    val_loss = 0.0\n",
    "    val_correct = 0\n",
    "    val_total = 0\n",
    "    \n",
    "    with torch.no_grad():\n",
    "        for state_vectors, actions in val_loader:\n",
    "            outputs = model(state_vectors)\n",
    "            loss = criterion(outputs, actions)\n",
    "            \n",
    "            val_loss += loss.item()\n",
    "            _, predicted = torch.max(outputs.data, 1)\n",
    "            val_total += actions.size(0)\n",
    "            val_correct += (predicted == actions).sum().item()\n",
    "    \n",
    "    val_loss = val_loss / len(val_loader)\n",
    "    val_accuracy = 100 * val_correct / val_total\n",
    "    \n",
    "    # Update learning rate\n",
    "    scheduler.step(val_loss)\n",
    "    \n",
    "    # Log metrics\n",
    "    wandb.log({\n",
    "        \"epoch\": epoch + 1,\n",
    "        \"train_loss\": train_loss,\n",
    "        \"train_accuracy\": train_accuracy,\n",
    "        \"val_loss\": val_loss,\n",
    "        \"val_accuracy\": val_accuracy,\n",
    "        \"learning_rate\": optimizer.param_groups[0][\"lr\"]\n",
    "    })\n",
    "    \n",
    "    # Print progress\n",
    "    if (epoch + 1) % 10 == 0:\n",
    "        print(f\"Epoch {epoch+1}/{training_config['epochs']}, \"\n",
    "              f\"Train Loss: {train_loss:.4f}, Train Acc: {train_accuracy:.2f}%, \"\n",
    "              f\"Val Loss: {val_loss:.4f}, Val Acc: {val_accuracy:.2f}%, \"\n",
    "              f\"LR: {optimizer.param_groups[0]['lr']:.6f}\")\n",
    "\n",
    "# Close wandb\n",
    "wandb.finish()"
   ]
  },
  {
   "cell_type": "code",
   "execution_count": 61,
   "metadata": {},
   "outputs": [
    {
     "name": "stdout",
     "output_type": "stream",
     "text": [
      "Model saved to ../model/lv1_bc_model_3.8.pth\n"
     ]
    }
   ],
   "source": [
    "# Model save directory\n",
    "model_path = \"../model/lv1_bc_model_3.8.pth\"\n",
    "# Save model\n",
    "torch.save(model.state_dict(), model_path)\n",
    "print(\"Model saved to \" + model_path)"
   ]
  },
  {
   "cell_type": "code",
   "execution_count": 24,
   "metadata": {},
   "outputs": [
    {
     "name": "stdout",
     "output_type": "stream",
     "text": [
      "AI Predicted Action: LEFT\n"
     ]
    },
    {
     "name": "stderr",
     "output_type": "stream",
     "text": [
      "/var/folders/jk/fgtqjbt14jg00g8k4jkjl6_40000gn/T/ipykernel_6592/3803181024.py:4: UserWarning: To copy construct from a tensor, it is recommended to use sourceTensor.clone().detach() or sourceTensor.clone().detach().requires_grad_(True), rather than torch.tensor(sourceTensor).\n",
      "  state_vector = torch.tensor(state, dtype=torch.float32).unsqueeze(0)\n"
     ]
    }
   ],
   "source": [
    "def predict_action(model, state):\n",
    "    model.eval()\n",
    "    with torch.no_grad():\n",
    "        state_vector = torch.tensor(state, dtype=torch.float32).unsqueeze(0)\n",
    "        output = model(state_vector)\n",
    "        action_idx = torch.argmax(output).item()\n",
    "    \n",
    "    action_mapping = {0: \"UP\", 1: \"DOWN\", 2: \"LEFT\", 3: \"RIGHT\"}\n",
    "    return action_mapping[action_idx]\n",
    "\n",
    "test_state, _ = dataset[5]  # Check the first sample in the dataset\n",
    "predicted_action = predict_action(model, test_state)\n",
    "print(f\"AI Predicted Action: {predicted_action}\")"
   ]
  }
 ],
 "metadata": {
  "kernelspec": {
   "display_name": "marlenv",
   "language": "python",
   "name": "python3"
  },
  "language_info": {
   "codemirror_mode": {
    "name": "ipython",
    "version": 3
   },
   "file_extension": ".py",
   "mimetype": "text/x-python",
   "name": "python",
   "nbconvert_exporter": "python",
   "pygments_lexer": "ipython3",
   "version": "3.9.19"
  }
 },
 "nbformat": 4,
 "nbformat_minor": 2
}
