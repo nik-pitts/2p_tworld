{
 "cells": [
  {
   "cell_type": "code",
   "execution_count": 1,
   "metadata": {},
   "outputs": [],
   "source": [
    "import json\n",
    "import sys\n",
    "import os\n",
    "# Add the parent directory to sys.path\n",
    "sys.path.append(os.path.abspath('..'))\n",
    "from src.tile_definitions import TILE_MAPPING\n",
    "\n",
    "import torch\n",
    "from torch.utils.data import Dataset, DataLoader\n",
    "from torch.optim.lr_scheduler import StepLR, ReduceLROnPlateau"
   ]
  },
  {
   "cell_type": "markdown",
   "metadata": {},
   "source": [
    "# Dataset Class"
   ]
  },
  {
   "cell_type": "code",
   "execution_count": 2,
   "metadata": {},
   "outputs": [],
   "source": [
    "class Level2GameDataset(Dataset):\n",
    "    def __init__(self, json_file, normalize_features=True):\n",
    "        # Load the data\n",
    "        with open(json_file, \"r\") as f:\n",
    "            self.data = json.load(f)\n",
    "        \n",
    "        print(f\"Loaded {len(self.data)} gameplay samples from {json_file}\")\n",
    "        \n",
    "        # Action to integer mapping\n",
    "        self.action_mapping = {\"UP\": 0, \"DOWN\": 1, \"LEFT\": 2, \"RIGHT\": 3, \"FORCED\": 4, \"SLIDE\": 5}\n",
    "        \n",
    "        # Create reverse mapping (tile_type -> ID) from TILE_MAPPING\n",
    "        self.tile_type_to_id = {}\n",
    "        for tile_id, (tile_type, _, _, _, _) in TILE_MAPPING.items():\n",
    "            self.tile_type_to_id[tile_type] = tile_id\n",
    "        \n",
    "        # Feature normalization option\n",
    "        self.normalize_features = normalize_features\n",
    "        \n",
    "        # Calculate dataset statistics if normalizing\n",
    "        if self.normalize_features:\n",
    "            self.calculate_normalization_stats()\n",
    "            \n",
    "    def calculate_normalization_stats(self):\n",
    "        \"\"\"Calculate statistics for feature normalization\"\"\"\n",
    "        # Extract grid dimensions from first sample\n",
    "        first_sample = self.data[0][\"state\"][\"full_grid\"]\n",
    "        self.grid_height = len(first_sample)\n",
    "        self.grid_width = len(first_sample[0])\n",
    "        \n",
    "        print(f\"Grid dimensions: {self.grid_height}x{self.grid_width}\")\n",
    "        \n",
    "        # Initialize normalization ranges\n",
    "        self.position_max = max(self.grid_width, self.grid_height)\n",
    "        self.chip_max = 2  # Reasonable maximum for chips\n",
    "        \n",
    "        print(\"Normalization enabled: Features will be scaled to [0,1]\")\n",
    "\n",
    "    def __len__(self):\n",
    "        return len(self.data)\n",
    "    \n",
    "    def __getitem__(self, idx):\n",
    "        sample = self.data[idx]\n",
    "        state = sample[\"state\"]\n",
    "        action = self.action_mapping[sample[\"action\"]]\n",
    "        \n",
    "        # Extract state components\n",
    "        position = torch.tensor(state[\"position\"], dtype=torch.float32)\n",
    "        chips_collected = torch.tensor([state[\"player_collected_chips\"]], dtype=torch.float32)\n",
    "        total_chips_collected = torch.tensor([state[\"total_collected_chips\"]], dtype=torch.float32)\n",
    "        socket_unlocked = torch.tensor([int(state[\"socket_unlocked\"])], dtype=torch.float32)\n",
    "        nearest_chip = torch.tensor(state[\"nearest_chip\"], dtype=torch.float32)\n",
    "        exit_location = torch.tensor(state[\"exit_position\"], dtype=torch.float32)\n",
    "        \n",
    "        # Process key and boot information\n",
    "        # Convert dictionary form to binary features\n",
    "        key_features = torch.zeros(4)  # RED, BLUE, GREEN, YELLOW\n",
    "        boot_features = torch.zeros(3)  # WATER, FIRE, FORCE\n",
    "        \n",
    "        # Process keys if available\n",
    "        if \"collected_keys\" in state and state[\"collected_keys\"]:\n",
    "            keys_dict = state[\"collected_keys\"]\n",
    "            if \"RED\" in keys_dict and keys_dict[\"RED\"]:\n",
    "                key_features[0] = 1.0\n",
    "            if \"BLUE\" in keys_dict and keys_dict[\"BLUE\"]:\n",
    "                key_features[1] = 1.0\n",
    "            if \"GREEN\" in keys_dict and keys_dict[\"GREEN\"]:\n",
    "                key_features[2] = 1.0\n",
    "            if \"YELLOW\" in keys_dict and keys_dict[\"YELLOW\"]:\n",
    "                key_features[3] = 1.0\n",
    "        \n",
    "        # Process boots if available\n",
    "        if \"collected_boots\" in state and state[\"collected_boots\"]:\n",
    "            boots_dict = state[\"collected_boots\"]\n",
    "            if \"WATER\" in boots_dict and boots_dict[\"WATER\"]:\n",
    "                boot_features[0] = 1.0\n",
    "            if \"FIRE\" in boots_dict and boots_dict[\"FIRE\"]:\n",
    "                boot_features[1] = 1.0\n",
    "            if \"FORCE\" in boots_dict and boots_dict[\"FORCE\"]:\n",
    "                boot_features[2] = 1.0\n",
    "        \n",
    "        # Process the full grid\n",
    "        full_grid = []\n",
    "        for row in state[\"full_grid\"]:\n",
    "            processed_row = []\n",
    "            for tile_type in row:\n",
    "                # Map to integer using the updated tile definitions\n",
    "                tile_id = self.tile_type_to_id.get(tile_type, 1)\n",
    "                processed_row.append(tile_id)\n",
    "            full_grid.append(processed_row)\n",
    "        \n",
    "        full_grid_tensor = torch.tensor(full_grid, dtype=torch.float32)\n",
    "        \n",
    "        # Process the local grid\n",
    "        local_grid = []\n",
    "        for row in state[\"local_grid\"]:\n",
    "            processed_row = []\n",
    "            for tile_type in row:\n",
    "                # Map to integer using the updated tile definitions\n",
    "                tile_id = self.tile_type_to_id.get(tile_type, 1)\n",
    "                processed_row.append(tile_id)\n",
    "            local_grid.append(processed_row)\n",
    "        \n",
    "        local_grid_tensor = torch.tensor(local_grid, dtype=torch.float32)\n",
    "        \n",
    "        if self.normalize_features:\n",
    "            max_tile_id = max(self.tile_type_to_id.values())\n",
    "            full_grid_tensor = full_grid_tensor / max_tile_id\n",
    "            local_grid_tensor = local_grid_tensor / max_tile_id\n",
    "        \n",
    "        # Additional state information\n",
    "        is_sliding = torch.tensor([float(state.get(\"is_sliding\", False))], dtype=torch.float32)\n",
    "        is_being_forced = torch.tensor([float(state.get(\"is_being_forced\", False))], dtype=torch.float32)\n",
    "        alive = torch.tensor([float(state.get(\"alive\", True))], dtype=torch.float32)\n",
    "        remaining_chips = torch.tensor([state.get(\"remaining_chips\", 0)], dtype=torch.float32)\n",
    "        other_player_pos = torch.tensor(state.get(\"other_player_position\", [-1, -1]), dtype=torch.float32)\n",
    "        \n",
    "        # Normalize position-based features if enabled\n",
    "        if self.normalize_features:\n",
    "            position = position / self.position_max\n",
    "            nearest_chip = nearest_chip / self.position_max\n",
    "            exit_location = exit_location / self.position_max\n",
    "            \n",
    "            if not (other_player_pos[0] == -1 and other_player_pos[1] == -1):\n",
    "                other_player_pos = other_player_pos / self.position_max\n",
    "                \n",
    "            chips_collected = chips_collected / self.chip_max\n",
    "            total_chips_collected = total_chips_collected / self.chip_max\n",
    "            remaining_chips = remaining_chips / self.chip_max\n",
    "            \n",
    "        # Concatenate all state information into a single vector\n",
    "        state_vector = torch.cat([\n",
    "            position,                    # 2\n",
    "            chips_collected,             # 1\n",
    "            total_chips_collected,       # 1\n",
    "            socket_unlocked,             # 1\n",
    "            nearest_chip,                # 2\n",
    "            exit_location,               # 2\n",
    "            key_features,                # 4 (RED, BLUE, GREEN, YELLOW)\n",
    "            boot_features,               # 3 (WATER, FIRE, FORCE)\n",
    "            full_grid_tensor.flatten(),  # grid_height * grid_width\n",
    "            local_grid_tensor.flatten(),\n",
    "            is_sliding,                  # 1\n",
    "            is_being_forced,             # 1\n",
    "            alive,                       # 1\n",
    "            remaining_chips,             # 1\n",
    "            other_player_pos,            # 2\n",
    "        ])\n",
    "        \n",
    "        return state_vector, torch.tensor(action, dtype=torch.long)\n",
    "    \n",
    "    def get_input_size(self):\n",
    "        \"\"\"Return the input size for the BC model\"\"\"\n",
    "        # Get dimensions from first item in dataset\n",
    "        sample_vector, _ = self[0]\n",
    "        return sample_vector.size(0)"
   ]
  },
  {
   "cell_type": "markdown",
   "metadata": {},
   "source": [
    "## Load Dataset and Test"
   ]
  },
  {
   "cell_type": "code",
   "execution_count": 3,
   "metadata": {},
   "outputs": [
    {
     "name": "stdout",
     "output_type": "stream",
     "text": [
      "Loaded 2020 gameplay samples from ../data/human_play_data_level1.json\n",
      "Grid dimensions: 13x13\n",
      "Normalization enabled: Features will be scaled to [0,1]\n",
      "13 13 13\n"
     ]
    }
   ],
   "source": [
    "# Dataset path\n",
    "level2_data_path = \"../data/human_play_data_level1.json\"  # Update with your level 2 data path\n",
    "\n",
    "# Initialize dataset\n",
    "dataset = Level2GameDataset(level2_data_path, normalize_features=True)\n",
    "input_size = dataset.get_input_size()\n",
    "output_size = 6  # Four possible actions: UP, DOWN, LEFT, RIGHT\n",
    "print(dataset.grid_height, dataset.grid_width, dataset.position_max)"
   ]
  },
  {
   "cell_type": "code",
   "execution_count": 4,
   "metadata": {},
   "outputs": [],
   "source": [
    "# Split into train and validation\n",
    "train_size = int(0.8 * len(dataset))\n",
    "val_size = len(dataset) - train_size\n",
    "train_dataset, val_dataset = torch.utils.data.random_split(dataset, [train_size, val_size])\n",
    "\n",
    "# Create dataloaders\n",
    "train_loader = DataLoader(train_dataset, batch_size=32, shuffle=True)\n",
    "val_loader = DataLoader(val_dataset, batch_size=32, shuffle=False)"
   ]
  },
  {
   "cell_type": "markdown",
   "metadata": {},
   "source": [
    "# Behavior Cloning Model"
   ]
  },
  {
   "cell_type": "code",
   "execution_count": 5,
   "metadata": {},
   "outputs": [],
   "source": [
    "import torch.nn as nn\n",
    "import torch.optim as optim"
   ]
  },
  {
   "cell_type": "code",
   "execution_count": 6,
   "metadata": {},
   "outputs": [],
   "source": [
    "# FNC Network for behavior cloning\n",
    "class BehaviorCloningModel(nn.Module):\n",
    "    def __init__(self, input_size, output_size):\n",
    "        super(BehaviorCloningModel, self).__init__()\n",
    "        self.fc = nn.Sequential(\n",
    "            nn.Linear(input_size, 256),\n",
    "            nn.ReLU(),\n",
    "            nn.Linear(256, 256),\n",
    "            nn.ReLU(),\n",
    "            nn.Linear(256, 256),\n",
    "            nn.ReLU(),  \n",
    "            nn.Linear(256, 256),\n",
    "            nn.ReLU(),                            \n",
    "            nn.Linear(256, output_size)\n",
    "        )\n",
    "\n",
    "    def forward(self, x):\n",
    "        return self.fc(x)"
   ]
  },
  {
   "cell_type": "code",
   "execution_count": 7,
   "metadata": {},
   "outputs": [],
   "source": [
    "model = BehaviorCloningModel(input_size, output_size)"
   ]
  },
  {
   "cell_type": "code",
   "execution_count": 8,
   "metadata": {},
   "outputs": [
    {
     "name": "stdout",
     "output_type": "stream",
     "text": [
      "input_size 200, output_size: 6\n"
     ]
    }
   ],
   "source": [
    "print(f\"input_size {input_size}, output_size: {output_size}\")"
   ]
  },
  {
   "cell_type": "markdown",
   "metadata": {},
   "source": [
    "## Training Loop"
   ]
  },
  {
   "cell_type": "code",
   "execution_count": 10,
   "metadata": {},
   "outputs": [],
   "source": [
    "training_config = {\n",
    "    \"epochs\": 300,\n",
    "    \"model_name\": \"BehaviorCloningModel\",\n",
    "    \"input_size\": input_size,\n",
    "    \"output_size\": output_size,\n",
    "    \"optimizer\": \"Adam\",\n",
    "    \"learning_rate\": 0.001,\n",
    "    \"batch_size\": 32,\n",
    "    \"criterion\": \"CrossEntropyLoss\",\n",
    "    \"activation\": \"ReLU\",\n",
    "    \"scheduler\": \"ReduceLROnPlateau\"\n",
    "}"
   ]
  },
  {
   "cell_type": "code",
   "execution_count": 11,
   "metadata": {},
   "outputs": [
    {
     "name": "stderr",
     "output_type": "stream",
     "text": [
      "\u001b[34m\u001b[1mwandb\u001b[0m: Using wandb-core as the SDK backend.  Please refer to https://wandb.me/wandb-core for more information.\n",
      "\u001b[34m\u001b[1mwandb\u001b[0m: \u001b[33mWARNING\u001b[0m If you're specifying your api key in code, ensure this code is not shared publicly.\n",
      "\u001b[34m\u001b[1mwandb\u001b[0m: \u001b[33mWARNING\u001b[0m Consider setting the WANDB_API_KEY environment variable, or running `wandb login` from the command line.\n",
      "\u001b[34m\u001b[1mwandb\u001b[0m: Appending key for api.wandb.ai to your netrc file: /Users/neo/.netrc\n",
      "\u001b[34m\u001b[1mwandb\u001b[0m: Currently logged in as: \u001b[33mknocknocknik\u001b[0m (\u001b[33mknocknocknik-pitts\u001b[0m) to \u001b[32mhttps://api.wandb.ai\u001b[0m. Use \u001b[1m`wandb login --relogin`\u001b[0m to force relogin\n"
     ]
    },
    {
     "data": {
      "text/html": [
       "Tracking run with wandb version 0.19.7"
      ],
      "text/plain": [
       "<IPython.core.display.HTML object>"
      ]
     },
     "metadata": {},
     "output_type": "display_data"
    },
    {
     "data": {
      "text/html": [
       "Run data is saved locally in <code>/Users/neo/gym-workspace/2p_tworld/colab/wandb/run-20250307_210617-xiaj6trs</code>"
      ],
      "text/plain": [
       "<IPython.core.display.HTML object>"
      ]
     },
     "metadata": {},
     "output_type": "display_data"
    },
    {
     "data": {
      "text/html": [
       "Syncing run <strong><a href='https://wandb.ai/knocknocknik-pitts/bc_surrogate_partner_lv2/runs/xiaj6trs' target=\"_blank\">level2_run_1.1</a></strong> to <a href='https://wandb.ai/knocknocknik-pitts/bc_surrogate_partner_lv2' target=\"_blank\">Weights & Biases</a> (<a href='https://wandb.me/developer-guide' target=\"_blank\">docs</a>)<br>"
      ],
      "text/plain": [
       "<IPython.core.display.HTML object>"
      ]
     },
     "metadata": {},
     "output_type": "display_data"
    },
    {
     "data": {
      "text/html": [
       " View project at <a href='https://wandb.ai/knocknocknik-pitts/bc_surrogate_partner_lv2' target=\"_blank\">https://wandb.ai/knocknocknik-pitts/bc_surrogate_partner_lv2</a>"
      ],
      "text/plain": [
       "<IPython.core.display.HTML object>"
      ]
     },
     "metadata": {},
     "output_type": "display_data"
    },
    {
     "data": {
      "text/html": [
       " View run at <a href='https://wandb.ai/knocknocknik-pitts/bc_surrogate_partner_lv2/runs/xiaj6trs' target=\"_blank\">https://wandb.ai/knocknocknik-pitts/bc_surrogate_partner_lv2/runs/xiaj6trs</a>"
      ],
      "text/plain": [
       "<IPython.core.display.HTML object>"
      ]
     },
     "metadata": {},
     "output_type": "display_data"
    }
   ],
   "source": [
    "import wandb\n",
    "wandb.login(key=\"294ac5de6babc54da53b9aadb344b3bb173b314d\")\n",
    "# change name for each run\n",
    "wandb.init(project=\"bc_surrogate_partner_lv2\", name=\"level2_run_1.1\", config=training_config)\n",
    "wandb.config.update(training_config)"
   ]
  },
  {
   "cell_type": "code",
   "execution_count": 12,
   "metadata": {},
   "outputs": [
    {
     "name": "stderr",
     "output_type": "stream",
     "text": [
      "/opt/anaconda3/envs/marlenv/lib/python3.9/site-packages/torch/optim/lr_scheduler.py:62: UserWarning: The verbose parameter is deprecated. Please use get_last_lr() to access the learning rate.\n",
      "  warnings.warn(\n"
     ]
    }
   ],
   "source": [
    "# Loss and optimizer\n",
    "criterion = nn.CrossEntropyLoss()\n",
    "optimizer = optim.Adam(model.parameters(), lr=training_config[\"learning_rate\"])\n",
    "scheduler = ReduceLROnPlateau(optimizer, mode='min', factor=0.5, patience=20, verbose=True)"
   ]
  },
  {
   "cell_type": "code",
   "execution_count": 13,
   "metadata": {},
   "outputs": [
    {
     "name": "stdout",
     "output_type": "stream",
     "text": [
      "Epoch 10/300, Train Loss: 0.9444, Train Acc: 60.89%, Val Loss: 0.8953, Val Acc: 64.36%, LR: 0.001000\n",
      "Epoch 20/300, Train Loss: 0.8135, Train Acc: 66.65%, Val Loss: 0.8114, Val Acc: 67.57%, LR: 0.001000\n",
      "Epoch 30/300, Train Loss: 0.6923, Train Acc: 72.03%, Val Loss: 0.8120, Val Acc: 68.07%, LR: 0.001000\n",
      "Epoch 40/300, Train Loss: 0.6218, Train Acc: 74.57%, Val Loss: 0.8597, Val Acc: 67.82%, LR: 0.001000\n",
      "Epoch 50/300, Train Loss: 0.5183, Train Acc: 79.21%, Val Loss: 0.8122, Val Acc: 70.05%, LR: 0.001000\n",
      "Epoch 60/300, Train Loss: 0.4689, Train Acc: 81.25%, Val Loss: 0.9022, Val Acc: 67.57%, LR: 0.001000\n",
      "Epoch 70/300, Train Loss: 0.3569, Train Acc: 85.15%, Val Loss: 0.8402, Val Acc: 72.77%, LR: 0.000500\n",
      "Epoch 80/300, Train Loss: 0.2938, Train Acc: 87.31%, Val Loss: 0.9632, Val Acc: 73.27%, LR: 0.000500\n",
      "Epoch 90/300, Train Loss: 0.2705, Train Acc: 88.43%, Val Loss: 1.0776, Val Acc: 74.50%, LR: 0.000250\n",
      "Epoch 100/300, Train Loss: 0.2257, Train Acc: 90.22%, Val Loss: 1.1038, Val Acc: 75.00%, LR: 0.000250\n",
      "Epoch 110/300, Train Loss: 0.2097, Train Acc: 90.97%, Val Loss: 1.2461, Val Acc: 73.51%, LR: 0.000250\n",
      "Epoch 120/300, Train Loss: 0.1831, Train Acc: 92.39%, Val Loss: 1.3495, Val Acc: 75.00%, LR: 0.000125\n",
      "Epoch 130/300, Train Loss: 0.1779, Train Acc: 92.14%, Val Loss: 1.3552, Val Acc: 74.26%, LR: 0.000125\n",
      "Epoch 140/300, Train Loss: 0.1637, Train Acc: 93.19%, Val Loss: 1.4216, Val Acc: 74.50%, LR: 0.000063\n",
      "Epoch 150/300, Train Loss: 0.1596, Train Acc: 93.32%, Val Loss: 1.4496, Val Acc: 73.76%, LR: 0.000063\n",
      "Epoch 160/300, Train Loss: 0.1511, Train Acc: 93.63%, Val Loss: 1.4724, Val Acc: 73.76%, LR: 0.000031\n",
      "Epoch 170/300, Train Loss: 0.1509, Train Acc: 93.94%, Val Loss: 1.4929, Val Acc: 73.27%, LR: 0.000031\n",
      "Epoch 180/300, Train Loss: 0.1455, Train Acc: 93.69%, Val Loss: 1.5098, Val Acc: 73.27%, LR: 0.000016\n",
      "Epoch 190/300, Train Loss: 0.1467, Train Acc: 93.81%, Val Loss: 1.5191, Val Acc: 73.76%, LR: 0.000016\n",
      "Epoch 200/300, Train Loss: 0.1433, Train Acc: 93.87%, Val Loss: 1.5312, Val Acc: 73.27%, LR: 0.000008\n",
      "Epoch 210/300, Train Loss: 0.1431, Train Acc: 93.87%, Val Loss: 1.5369, Val Acc: 73.51%, LR: 0.000008\n",
      "Epoch 220/300, Train Loss: 0.1429, Train Acc: 93.94%, Val Loss: 1.5403, Val Acc: 73.27%, LR: 0.000004\n",
      "Epoch 230/300, Train Loss: 0.1417, Train Acc: 94.06%, Val Loss: 1.5458, Val Acc: 73.51%, LR: 0.000004\n",
      "Epoch 240/300, Train Loss: 0.1405, Train Acc: 94.18%, Val Loss: 1.5486, Val Acc: 73.51%, LR: 0.000002\n",
      "Epoch 250/300, Train Loss: 0.1430, Train Acc: 94.18%, Val Loss: 1.5493, Val Acc: 73.51%, LR: 0.000002\n",
      "Epoch 260/300, Train Loss: 0.1407, Train Acc: 94.31%, Val Loss: 1.5508, Val Acc: 73.51%, LR: 0.000001\n",
      "Epoch 270/300, Train Loss: 0.1420, Train Acc: 94.31%, Val Loss: 1.5518, Val Acc: 73.51%, LR: 0.000001\n",
      "Epoch 280/300, Train Loss: 0.1402, Train Acc: 94.25%, Val Loss: 1.5525, Val Acc: 73.51%, LR: 0.000000\n",
      "Epoch 290/300, Train Loss: 0.1416, Train Acc: 94.25%, Val Loss: 1.5529, Val Acc: 73.51%, LR: 0.000000\n",
      "Epoch 300/300, Train Loss: 0.1412, Train Acc: 94.31%, Val Loss: 1.5532, Val Acc: 73.51%, LR: 0.000000\n"
     ]
    },
    {
     "data": {
      "text/html": [],
      "text/plain": [
       "<IPython.core.display.HTML object>"
      ]
     },
     "metadata": {},
     "output_type": "display_data"
    },
    {
     "data": {
      "text/html": [
       "<br>    <style><br>        .wandb-row {<br>            display: flex;<br>            flex-direction: row;<br>            flex-wrap: wrap;<br>            justify-content: flex-start;<br>            width: 100%;<br>        }<br>        .wandb-col {<br>            display: flex;<br>            flex-direction: column;<br>            flex-basis: 100%;<br>            flex: 1;<br>            padding: 10px;<br>        }<br>    </style><br><div class=\"wandb-row\"><div class=\"wandb-col\"><h3>Run history:</h3><br/><table class=\"wandb\"><tr><td>epoch</td><td>▁▁▁▁▁▂▂▂▂▂▃▃▃▃▄▄▄▄▅▅▅▅▅▅▆▆▆▆▇▇▇▇▇▇▇█████</td></tr><tr><td>learning_rate</td><td>██████████▄▄▄▄▄▃▃▂▂▁▁▁▁▁▁▁▁▁▁▁▁▁▁▁▁▁▁▁▁▁</td></tr><tr><td>train_accuracy</td><td>▁▃▃▄▄▄▄▅▅▆▆▇▇▇▇▇▇███████████████████████</td></tr><tr><td>train_loss</td><td>██▇▆▆▆▆▅▄▃▃▃▂▂▂▂▂▂▂▁▁▁▁▁▁▁▁▁▁▁▁▁▁▁▁▁▁▁▁▁</td></tr><tr><td>val_accuracy</td><td>▁▃▃▄▃▅▅▄▅▅▆█▅▆▇███▇█▇▇█▇▇▇▇▇▇▇▇▇▇▇▇▇▇▇▇▇</td></tr><tr><td>val_loss</td><td>▅▃▃▂▁▁▁▁▁▁▁▁▁▂▂▃▃▃▄▄▅▅▆▆▆▇██████████████</td></tr></table><br/></div><div class=\"wandb-col\"><h3>Run summary:</h3><br/><table class=\"wandb\"><tr><td>epoch</td><td>300</td></tr><tr><td>learning_rate</td><td>0.0</td></tr><tr><td>train_accuracy</td><td>94.30693</td></tr><tr><td>train_loss</td><td>0.1412</td></tr><tr><td>val_accuracy</td><td>73.51485</td></tr><tr><td>val_loss</td><td>1.55322</td></tr></table><br/></div></div>"
      ],
      "text/plain": [
       "<IPython.core.display.HTML object>"
      ]
     },
     "metadata": {},
     "output_type": "display_data"
    },
    {
     "data": {
      "text/html": [
       " View run <strong style=\"color:#cdcd00\">level2_run_1.1</strong> at: <a href='https://wandb.ai/knocknocknik-pitts/bc_surrogate_partner_lv2/runs/xiaj6trs' target=\"_blank\">https://wandb.ai/knocknocknik-pitts/bc_surrogate_partner_lv2/runs/xiaj6trs</a><br> View project at: <a href='https://wandb.ai/knocknocknik-pitts/bc_surrogate_partner_lv2' target=\"_blank\">https://wandb.ai/knocknocknik-pitts/bc_surrogate_partner_lv2</a><br>Synced 5 W&B file(s), 0 media file(s), 0 artifact file(s) and 0 other file(s)"
      ],
      "text/plain": [
       "<IPython.core.display.HTML object>"
      ]
     },
     "metadata": {},
     "output_type": "display_data"
    },
    {
     "data": {
      "text/html": [
       "Find logs at: <code>./wandb/run-20250307_210617-xiaj6trs/logs</code>"
      ],
      "text/plain": [
       "<IPython.core.display.HTML object>"
      ]
     },
     "metadata": {},
     "output_type": "display_data"
    }
   ],
   "source": [
    "# Training loop\n",
    "for epoch in range(training_config[\"epochs\"]):\n",
    "    # Training phase\n",
    "    model.train()\n",
    "    train_loss = 0.0\n",
    "    train_correct = 0\n",
    "    train_total = 0\n",
    "    \n",
    "    for state_vectors, actions in train_loader:\n",
    "        optimizer.zero_grad()\n",
    "        outputs = model(state_vectors)\n",
    "        loss = criterion(outputs, actions)\n",
    "        loss.backward()\n",
    "        optimizer.step()\n",
    "        \n",
    "        train_loss += loss.item()\n",
    "        _, predicted = torch.max(outputs.data, 1)\n",
    "        train_total += actions.size(0)\n",
    "        train_correct += (predicted == actions).sum().item()\n",
    "    \n",
    "    train_loss = train_loss / len(train_loader)\n",
    "    train_accuracy = 100 * train_correct / train_total\n",
    "    \n",
    "    # Validation phase\n",
    "    model.eval()\n",
    "    val_loss = 0.0\n",
    "    val_correct = 0\n",
    "    val_total = 0\n",
    "    \n",
    "    with torch.no_grad():\n",
    "        for state_vectors, actions in val_loader:\n",
    "            outputs = model(state_vectors)\n",
    "            loss = criterion(outputs, actions)\n",
    "            \n",
    "            val_loss += loss.item()\n",
    "            _, predicted = torch.max(outputs.data, 1)\n",
    "            val_total += actions.size(0)\n",
    "            val_correct += (predicted == actions).sum().item()\n",
    "    \n",
    "    val_loss = val_loss / len(val_loader)\n",
    "    val_accuracy = 100 * val_correct / val_total\n",
    "    \n",
    "    # Update learning rate\n",
    "    scheduler.step(val_loss)\n",
    "    \n",
    "    # Log metrics\n",
    "    wandb.log({\n",
    "        \"epoch\": epoch + 1,\n",
    "        \"train_loss\": train_loss,\n",
    "        \"train_accuracy\": train_accuracy,\n",
    "        \"val_loss\": val_loss,\n",
    "        \"val_accuracy\": val_accuracy,\n",
    "        \"learning_rate\": optimizer.param_groups[0][\"lr\"]\n",
    "    })\n",
    "    \n",
    "    # Print progress\n",
    "    if (epoch + 1) % 10 == 0:\n",
    "        print(f\"Epoch {epoch+1}/{training_config['epochs']}, \"\n",
    "              f\"Train Loss: {train_loss:.4f}, Train Acc: {train_accuracy:.2f}%, \"\n",
    "              f\"Val Loss: {val_loss:.4f}, Val Acc: {val_accuracy:.2f}%, \"\n",
    "              f\"LR: {optimizer.param_groups[0]['lr']:.6f}\")\n",
    "\n",
    "# Close wandb\n",
    "wandb.finish()"
   ]
  },
  {
   "cell_type": "code",
   "execution_count": 14,
   "metadata": {},
   "outputs": [],
   "source": [
    "# Model save directory\n",
    "model_path = \"../model/lv2_bc_model_1.1.pth\"\n",
    "# Save model\n",
    "torch.save(model.state_dict(), model_path)"
   ]
  },
  {
   "cell_type": "code",
   "execution_count": 15,
   "metadata": {},
   "outputs": [
    {
     "name": "stdout",
     "output_type": "stream",
     "text": [
      "AI Predicted Action: LEFT\n"
     ]
    },
    {
     "name": "stderr",
     "output_type": "stream",
     "text": [
      "/var/folders/jk/fgtqjbt14jg00g8k4jkjl6_40000gn/T/ipykernel_19793/1167480500.py:4: UserWarning: To copy construct from a tensor, it is recommended to use sourceTensor.clone().detach() or sourceTensor.clone().detach().requires_grad_(True), rather than torch.tensor(sourceTensor).\n",
      "  state_vector = torch.tensor(state, dtype=torch.float32).unsqueeze(0)\n"
     ]
    }
   ],
   "source": [
    "def predict_action(model, state):\n",
    "    model.eval()\n",
    "    with torch.no_grad():\n",
    "        state_vector = torch.tensor(state, dtype=torch.float32).unsqueeze(0)\n",
    "        output = model(state_vector)\n",
    "        action_idx = torch.argmax(output).item()\n",
    "    \n",
    "    action_mapping = {0: \"UP\", 1: \"DOWN\", 2: \"LEFT\", 3: \"RIGHT\", 4:\"FORCED\", 5:\"SLIDE\"}\n",
    "    return action_mapping[action_idx]\n",
    "\n",
    "test_state, _ = dataset[0]  # Check the first sample in the dataset\n",
    "predicted_action = predict_action(model, test_state)\n",
    "print(f\"AI Predicted Action: {predicted_action}\")"
   ]
  }
 ],
 "metadata": {
  "kernelspec": {
   "display_name": "marlenv",
   "language": "python",
   "name": "python3"
  },
  "language_info": {
   "codemirror_mode": {
    "name": "ipython",
    "version": 3
   },
   "file_extension": ".py",
   "mimetype": "text/x-python",
   "name": "python",
   "nbconvert_exporter": "python",
   "pygments_lexer": "ipython3",
   "version": "3.9.19"
  }
 },
 "nbformat": 4,
 "nbformat_minor": 2
}
