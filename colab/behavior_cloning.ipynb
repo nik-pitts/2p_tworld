{
 "cells": [
  {
   "cell_type": "code",
   "execution_count": 1,
   "metadata": {},
   "outputs": [],
   "source": [
    "import json\n",
    "import torch\n",
    "from torch.utils.data import Dataset, DataLoader\n",
    "from torch.optim.lr_scheduler import StepLR, ReduceLROnPlateau"
   ]
  },
  {
   "cell_type": "markdown",
   "metadata": {},
   "source": [
    "# Dataset Class"
   ]
  },
  {
   "cell_type": "code",
   "execution_count": 2,
   "metadata": {},
   "outputs": [],
   "source": [
    "class GameDataset(Dataset):\n",
    "    def __init__(self, json_file):\n",
    "        with open(json_file, \"r\") as f:\n",
    "            self.data = json.load(f)\n",
    "        \n",
    "        # Action to integer mapping\n",
    "        self.action_mapping = {\"UP\": 0, \"DOWN\": 1, \"LEFT\": 2, \"RIGHT\": 3}\n",
    "\n",
    "    def __len__(self):\n",
    "        return len(self.data)\n",
    "\n",
    "    def __getitem__(self, idx):\n",
    "        sample = self.data[idx]\n",
    "        state = sample[\"state\"]\n",
    "        action = self.action_mapping[sample[\"action\"]]\n",
    "\n",
    "        # Where is the agent?\n",
    "        position = torch.tensor(state[\"position\"], dtype=torch.float32)\n",
    "\n",
    "        # How many chips have been collected?\n",
    "        chips_collected = torch.tensor([state[\"chips_collected\"]], dtype=torch.float32)\n",
    "        \n",
    "        total_chips_collected = torch.tensor([state[\"total_collected_chips\"]], dtype=torch.float32)\n",
    "\n",
    "        # Is the socket unlocked?\n",
    "        socket_unlocked = torch.tensor([int(state[\"socket_unlocked\"])], dtype=torch.float32)\n",
    "\n",
    "        # Whre is the nearest chip?\n",
    "        nearest_chip = torch.tensor(state[\"nearest_chip\"], dtype=torch.float32)\n",
    "        \n",
    "        # Where is the exit?\n",
    "        exit_location = torch.tensor(state[\"exit_position\"], dtype=torch.float32)\n",
    "\n",
    "        # Adjacent tile information\n",
    "        tile_mapping = {\"WALL\": 0, \"FLOOR\": 1, \"CHIP\": 2, \"EXIT\": 3, \"SOCKET\": 4, \"WATER\": 5, \"FIRE\": 6, \"HINT\":7}\n",
    "        local_grid = torch.tensor([[tile_mapping[tile] for tile in row] for row in state[\"local_grid\"]], dtype=torch.float32)\n",
    "\n",
    "        # Concatenate all the state information into a single tensor -> State Vector\n",
    "        state_vector = torch.cat([position, chips_collected, total_chips_collected, socket_unlocked, nearest_chip, exit_location, local_grid.flatten()])\n",
    "        \n",
    "        return state_vector, torch.tensor(action, dtype=torch.long)"
   ]
  },
  {
   "cell_type": "markdown",
   "metadata": {},
   "source": [
    "## Load Dataset and Test"
   ]
  },
  {
   "cell_type": "code",
   "execution_count": 17,
   "metadata": {},
   "outputs": [
    {
     "name": "stdout",
     "output_type": "stream",
     "text": [
      "🔢 Sample Vector: torch.Size([34])\n",
      "📊 Loaded 1311 samples.\n"
     ]
    }
   ],
   "source": [
    "dataset = GameDataset(\"../data/human_play_data.json\")\n",
    "dataloader = DataLoader(dataset, batch_size=64, shuffle=True)\n",
    "sample_vector, sample_action = dataset[0]  \n",
    "print(f\"🔢 Sample Vector: {sample_vector.size()}\")  # 🔥 샘플 벡터 크기 확인!\n",
    "print(f\"📊 Loaded {len(dataset)} samples.\")"
   ]
  },
  {
   "cell_type": "markdown",
   "metadata": {},
   "source": [
    "# Behavior Cloning Model"
   ]
  },
  {
   "cell_type": "code",
   "execution_count": 4,
   "metadata": {},
   "outputs": [],
   "source": [
    "import torch.nn as nn\n",
    "import torch.optim as optim"
   ]
  },
  {
   "cell_type": "code",
   "execution_count": 18,
   "metadata": {},
   "outputs": [],
   "source": [
    "# FNC Network for behavior cloning\n",
    "class BehaviorCloningModel(nn.Module):\n",
    "    def __init__(self, input_size, output_size):\n",
    "        super(BehaviorCloningModel, self).__init__()\n",
    "        self.fc = nn.Sequential(\n",
    "            nn.Linear(input_size, 64),\n",
    "            nn.ReLU(),\n",
    "            nn.Linear(64, 64),\n",
    "            nn.ReLU(),\n",
    "            nn.Linear(64, 64),\n",
    "            nn.ReLU(),                          \n",
    "            nn.Linear(64, output_size)\n",
    "        )\n",
    "\n",
    "    def forward(self, x):\n",
    "        return self.fc(x)"
   ]
  },
  {
   "cell_type": "code",
   "execution_count": 19,
   "metadata": {},
   "outputs": [
    {
     "name": "stdout",
     "output_type": "stream",
     "text": [
      "(tensor([10.,  6.,  0.,  0.,  0.,  9.,  3.,  6.,  6.,  0.,  0.,  0.,  1.,  0.,\n",
      "         1.,  1.,  1.,  1.,  0.,  1.,  1.,  1.,  1.,  0.,  1.,  1.,  1.,  1.,\n",
      "         0.,  1.,  1.,  1.,  1.,  0.]), tensor(1))\n"
     ]
    }
   ],
   "source": [
    "input_size = len(dataset[0][0])  # Size of State Vector\n",
    "print(dataset[0])\n",
    "output_size = 4  # Possible Actions (UP, DOWN, LEFT, RIGHT)\n",
    "model = BehaviorCloningModel(input_size, output_size)\n",
    "criterion = nn.CrossEntropyLoss()\n",
    "optimizer = optim.Adam(model.parameters(), lr=0.001)"
   ]
  },
  {
   "cell_type": "code",
   "execution_count": 20,
   "metadata": {},
   "outputs": [
    {
     "name": "stdout",
     "output_type": "stream",
     "text": [
      "input_size 34, output_size: 4\n"
     ]
    }
   ],
   "source": [
    "print(f\"input_size {input_size}, output_size: {output_size}\")"
   ]
  },
  {
   "cell_type": "markdown",
   "metadata": {},
   "source": [
    "## Training Loop"
   ]
  },
  {
   "cell_type": "code",
   "execution_count": null,
   "metadata": {},
   "outputs": [],
   "source": [
    "# traning configuration\n",
    "training_config = {\n",
    "    \"epochs\": 5000,\n",
    "    \"model_name\": \"BehaviorCloningModel\",\n",
    "    \"intput_size\": input_size,\n",
    "    \"output_size\": output_size,\n",
    "    \"optimizer\": \"Adam\",\n",
    "    \"learning_rate\": 0.01,\n",
    "    \"batch_size\": 128,\n",
    "    \"criterion\": \"CrossEntropyLoss\",\n",
    "    \"activation\": \"ReLU\",\n",
    "    \"scheudler\": \"StepLR\"\n",
    "}"
   ]
  },
  {
   "cell_type": "code",
   "execution_count": 22,
   "metadata": {},
   "outputs": [
    {
     "data": {
      "text/html": [
       "Tracking run with wandb version 0.19.7"
      ],
      "text/plain": [
       "<IPython.core.display.HTML object>"
      ]
     },
     "metadata": {},
     "output_type": "display_data"
    },
    {
     "data": {
      "text/html": [
       "Run data is saved locally in <code>/Users/neo/gym-workspace/2p_tworld/colab/wandb/run-20250224_204320-3x3_64_FCN-3Layer_5000ep</code>"
      ],
      "text/plain": [
       "<IPython.core.display.HTML object>"
      ]
     },
     "metadata": {},
     "output_type": "display_data"
    },
    {
     "data": {
      "text/html": [
       "Syncing run <strong><a href='https://wandb.ai/knocknocknik-pitts/bc_surrogate_partner/runs/3x3_64_FCN-3Layer_5000ep' target=\"_blank\">run_7.0</a></strong> to <a href='https://wandb.ai/knocknocknik-pitts/bc_surrogate_partner' target=\"_blank\">Weights & Biases</a> (<a href='https://wandb.me/developer-guide' target=\"_blank\">docs</a>)<br>"
      ],
      "text/plain": [
       "<IPython.core.display.HTML object>"
      ]
     },
     "metadata": {},
     "output_type": "display_data"
    },
    {
     "data": {
      "text/html": [
       " View project at <a href='https://wandb.ai/knocknocknik-pitts/bc_surrogate_partner' target=\"_blank\">https://wandb.ai/knocknocknik-pitts/bc_surrogate_partner</a>"
      ],
      "text/plain": [
       "<IPython.core.display.HTML object>"
      ]
     },
     "metadata": {},
     "output_type": "display_data"
    },
    {
     "data": {
      "text/html": [
       " View run at <a href='https://wandb.ai/knocknocknik-pitts/bc_surrogate_partner/runs/3x3_64_FCN-3Layer_5000ep' target=\"_blank\">https://wandb.ai/knocknocknik-pitts/bc_surrogate_partner/runs/3x3_64_FCN-3Layer_5000ep</a>"
      ],
      "text/plain": [
       "<IPython.core.display.HTML object>"
      ]
     },
     "metadata": {},
     "output_type": "display_data"
    }
   ],
   "source": [
    "import wandb\n",
    "#wandb.login(key=\"294ac5de6babc54da53b9aadb344b3bb173b314d\")\n",
    "# change name for each run\n",
    "wandb.init(project=\"bc_surrogate_partner\", name=\"run_7.0\", id=\"3x3_64_FCN-3Layer_5000ep\", resume=\"never\")\n",
    "wandb.config.update(training_config)"
   ]
  },
  {
   "cell_type": "code",
   "execution_count": 23,
   "metadata": {},
   "outputs": [
    {
     "name": "stdout",
     "output_type": "stream",
     "text": [
      "Epoch 100/5000, Loss: 0.4296, LR: 0.0010\n",
      "Epoch 200/5000, Loss: 0.3316, LR: 0.0009\n",
      "Epoch 300/5000, Loss: 0.2873, LR: 0.0009\n",
      "Epoch 400/5000, Loss: 0.2792, LR: 0.0008\n",
      "Epoch 500/5000, Loss: 0.2730, LR: 0.0008\n",
      "Epoch 600/5000, Loss: 0.2593, LR: 0.0007\n",
      "Epoch 700/5000, Loss: 0.2583, LR: 0.0007\n",
      "Epoch 800/5000, Loss: 0.2526, LR: 0.0007\n",
      "Epoch 900/5000, Loss: 0.2508, LR: 0.0007\n",
      "Epoch 1000/5000, Loss: 0.2386, LR: 0.0006\n",
      "Epoch 1100/5000, Loss: 0.2420, LR: 0.0006\n",
      "Epoch 1200/5000, Loss: 0.2430, LR: 0.0005\n",
      "Epoch 1300/5000, Loss: 0.2362, LR: 0.0005\n",
      "Epoch 1400/5000, Loss: 0.2392, LR: 0.0005\n",
      "Epoch 1500/5000, Loss: 0.2410, LR: 0.0005\n",
      "Epoch 1600/5000, Loss: 0.2365, LR: 0.0004\n",
      "Epoch 1700/5000, Loss: 0.2367, LR: 0.0004\n",
      "Epoch 1800/5000, Loss: 0.2340, LR: 0.0004\n",
      "Epoch 1900/5000, Loss: 0.2403, LR: 0.0004\n",
      "Epoch 2000/5000, Loss: 0.2346, LR: 0.0003\n",
      "Epoch 2100/5000, Loss: 0.2344, LR: 0.0003\n",
      "Epoch 2200/5000, Loss: 0.2345, LR: 0.0003\n",
      "Epoch 2300/5000, Loss: 0.2315, LR: 0.0003\n",
      "Epoch 2400/5000, Loss: 0.2305, LR: 0.0003\n",
      "Epoch 2500/5000, Loss: 0.2316, LR: 0.0003\n"
     ]
    },
    {
     "ename": "KeyboardInterrupt",
     "evalue": "",
     "output_type": "error",
     "traceback": [
      "\u001b[0;31m---------------------------------------------------------------------------\u001b[0m",
      "\u001b[0;31mKeyboardInterrupt\u001b[0m                         Traceback (most recent call last)",
      "Cell \u001b[0;32mIn[23], line 8\u001b[0m\n\u001b[1;32m      5\u001b[0m \u001b[38;5;28;01mfor\u001b[39;00m epoch \u001b[38;5;129;01min\u001b[39;00m \u001b[38;5;28mrange\u001b[39m(num_epochs):\n\u001b[1;32m      6\u001b[0m     total_loss \u001b[38;5;241m=\u001b[39m \u001b[38;5;241m0\u001b[39m\n\u001b[0;32m----> 8\u001b[0m     \u001b[38;5;28;01mfor\u001b[39;00m state_vector, action \u001b[38;5;129;01min\u001b[39;00m dataloader:\n\u001b[1;32m      9\u001b[0m         optimizer\u001b[38;5;241m.\u001b[39mzero_grad()\n\u001b[1;32m     11\u001b[0m         \u001b[38;5;66;03m# predict\u001b[39;00m\n",
      "File \u001b[0;32m/opt/anaconda3/envs/marlenv/lib/python3.9/site-packages/torch/utils/data/dataloader.py:701\u001b[0m, in \u001b[0;36m_BaseDataLoaderIter.__next__\u001b[0;34m(self)\u001b[0m\n\u001b[1;32m    698\u001b[0m \u001b[38;5;28;01mif\u001b[39;00m \u001b[38;5;28mself\u001b[39m\u001b[38;5;241m.\u001b[39m_sampler_iter \u001b[38;5;129;01mis\u001b[39;00m \u001b[38;5;28;01mNone\u001b[39;00m:\n\u001b[1;32m    699\u001b[0m     \u001b[38;5;66;03m# TODO(https://github.com/pytorch/pytorch/issues/76750)\u001b[39;00m\n\u001b[1;32m    700\u001b[0m     \u001b[38;5;28mself\u001b[39m\u001b[38;5;241m.\u001b[39m_reset()  \u001b[38;5;66;03m# type: ignore[call-arg]\u001b[39;00m\n\u001b[0;32m--> 701\u001b[0m data \u001b[38;5;241m=\u001b[39m \u001b[38;5;28;43mself\u001b[39;49m\u001b[38;5;241;43m.\u001b[39;49m\u001b[43m_next_data\u001b[49m\u001b[43m(\u001b[49m\u001b[43m)\u001b[49m\n\u001b[1;32m    702\u001b[0m \u001b[38;5;28mself\u001b[39m\u001b[38;5;241m.\u001b[39m_num_yielded \u001b[38;5;241m+\u001b[39m\u001b[38;5;241m=\u001b[39m \u001b[38;5;241m1\u001b[39m\n\u001b[1;32m    703\u001b[0m \u001b[38;5;28;01mif\u001b[39;00m (\n\u001b[1;32m    704\u001b[0m     \u001b[38;5;28mself\u001b[39m\u001b[38;5;241m.\u001b[39m_dataset_kind \u001b[38;5;241m==\u001b[39m _DatasetKind\u001b[38;5;241m.\u001b[39mIterable\n\u001b[1;32m    705\u001b[0m     \u001b[38;5;129;01mand\u001b[39;00m \u001b[38;5;28mself\u001b[39m\u001b[38;5;241m.\u001b[39m_IterableDataset_len_called \u001b[38;5;129;01mis\u001b[39;00m \u001b[38;5;129;01mnot\u001b[39;00m \u001b[38;5;28;01mNone\u001b[39;00m\n\u001b[1;32m    706\u001b[0m     \u001b[38;5;129;01mand\u001b[39;00m \u001b[38;5;28mself\u001b[39m\u001b[38;5;241m.\u001b[39m_num_yielded \u001b[38;5;241m>\u001b[39m \u001b[38;5;28mself\u001b[39m\u001b[38;5;241m.\u001b[39m_IterableDataset_len_called\n\u001b[1;32m    707\u001b[0m ):\n",
      "File \u001b[0;32m/opt/anaconda3/envs/marlenv/lib/python3.9/site-packages/torch/utils/data/dataloader.py:757\u001b[0m, in \u001b[0;36m_SingleProcessDataLoaderIter._next_data\u001b[0;34m(self)\u001b[0m\n\u001b[1;32m    755\u001b[0m \u001b[38;5;28;01mdef\u001b[39;00m \u001b[38;5;21m_next_data\u001b[39m(\u001b[38;5;28mself\u001b[39m):\n\u001b[1;32m    756\u001b[0m     index \u001b[38;5;241m=\u001b[39m \u001b[38;5;28mself\u001b[39m\u001b[38;5;241m.\u001b[39m_next_index()  \u001b[38;5;66;03m# may raise StopIteration\u001b[39;00m\n\u001b[0;32m--> 757\u001b[0m     data \u001b[38;5;241m=\u001b[39m \u001b[38;5;28;43mself\u001b[39;49m\u001b[38;5;241;43m.\u001b[39;49m\u001b[43m_dataset_fetcher\u001b[49m\u001b[38;5;241;43m.\u001b[39;49m\u001b[43mfetch\u001b[49m\u001b[43m(\u001b[49m\u001b[43mindex\u001b[49m\u001b[43m)\u001b[49m  \u001b[38;5;66;03m# may raise StopIteration\u001b[39;00m\n\u001b[1;32m    758\u001b[0m     \u001b[38;5;28;01mif\u001b[39;00m \u001b[38;5;28mself\u001b[39m\u001b[38;5;241m.\u001b[39m_pin_memory:\n\u001b[1;32m    759\u001b[0m         data \u001b[38;5;241m=\u001b[39m _utils\u001b[38;5;241m.\u001b[39mpin_memory\u001b[38;5;241m.\u001b[39mpin_memory(data, \u001b[38;5;28mself\u001b[39m\u001b[38;5;241m.\u001b[39m_pin_memory_device)\n",
      "File \u001b[0;32m/opt/anaconda3/envs/marlenv/lib/python3.9/site-packages/torch/utils/data/_utils/fetch.py:52\u001b[0m, in \u001b[0;36m_MapDatasetFetcher.fetch\u001b[0;34m(self, possibly_batched_index)\u001b[0m\n\u001b[1;32m     50\u001b[0m         data \u001b[38;5;241m=\u001b[39m \u001b[38;5;28mself\u001b[39m\u001b[38;5;241m.\u001b[39mdataset\u001b[38;5;241m.\u001b[39m__getitems__(possibly_batched_index)\n\u001b[1;32m     51\u001b[0m     \u001b[38;5;28;01melse\u001b[39;00m:\n\u001b[0;32m---> 52\u001b[0m         data \u001b[38;5;241m=\u001b[39m [\u001b[38;5;28mself\u001b[39m\u001b[38;5;241m.\u001b[39mdataset[idx] \u001b[38;5;28;01mfor\u001b[39;00m idx \u001b[38;5;129;01min\u001b[39;00m possibly_batched_index]\n\u001b[1;32m     53\u001b[0m \u001b[38;5;28;01melse\u001b[39;00m:\n\u001b[1;32m     54\u001b[0m     data \u001b[38;5;241m=\u001b[39m \u001b[38;5;28mself\u001b[39m\u001b[38;5;241m.\u001b[39mdataset[possibly_batched_index]\n",
      "File \u001b[0;32m/opt/anaconda3/envs/marlenv/lib/python3.9/site-packages/torch/utils/data/_utils/fetch.py:52\u001b[0m, in \u001b[0;36m<listcomp>\u001b[0;34m(.0)\u001b[0m\n\u001b[1;32m     50\u001b[0m         data \u001b[38;5;241m=\u001b[39m \u001b[38;5;28mself\u001b[39m\u001b[38;5;241m.\u001b[39mdataset\u001b[38;5;241m.\u001b[39m__getitems__(possibly_batched_index)\n\u001b[1;32m     51\u001b[0m     \u001b[38;5;28;01melse\u001b[39;00m:\n\u001b[0;32m---> 52\u001b[0m         data \u001b[38;5;241m=\u001b[39m [\u001b[38;5;28;43mself\u001b[39;49m\u001b[38;5;241;43m.\u001b[39;49m\u001b[43mdataset\u001b[49m\u001b[43m[\u001b[49m\u001b[43midx\u001b[49m\u001b[43m]\u001b[49m \u001b[38;5;28;01mfor\u001b[39;00m idx \u001b[38;5;129;01min\u001b[39;00m possibly_batched_index]\n\u001b[1;32m     53\u001b[0m \u001b[38;5;28;01melse\u001b[39;00m:\n\u001b[1;32m     54\u001b[0m     data \u001b[38;5;241m=\u001b[39m \u001b[38;5;28mself\u001b[39m\u001b[38;5;241m.\u001b[39mdataset[possibly_batched_index]\n",
      "Cell \u001b[0;32mIn[2], line 21\u001b[0m, in \u001b[0;36mGameDataset.__getitem__\u001b[0;34m(self, idx)\u001b[0m\n\u001b[1;32m     18\u001b[0m position \u001b[38;5;241m=\u001b[39m torch\u001b[38;5;241m.\u001b[39mtensor(state[\u001b[38;5;124m\"\u001b[39m\u001b[38;5;124mposition\u001b[39m\u001b[38;5;124m\"\u001b[39m], dtype\u001b[38;5;241m=\u001b[39mtorch\u001b[38;5;241m.\u001b[39mfloat32)\n\u001b[1;32m     20\u001b[0m \u001b[38;5;66;03m# How many chips have been collected?\u001b[39;00m\n\u001b[0;32m---> 21\u001b[0m chips_collected \u001b[38;5;241m=\u001b[39m \u001b[43mtorch\u001b[49m\u001b[38;5;241;43m.\u001b[39;49m\u001b[43mtensor\u001b[49m\u001b[43m(\u001b[49m\u001b[43m[\u001b[49m\u001b[43mstate\u001b[49m\u001b[43m[\u001b[49m\u001b[38;5;124;43m\"\u001b[39;49m\u001b[38;5;124;43mchips_collected\u001b[39;49m\u001b[38;5;124;43m\"\u001b[39;49m\u001b[43m]\u001b[49m\u001b[43m]\u001b[49m\u001b[43m,\u001b[49m\u001b[43m \u001b[49m\u001b[43mdtype\u001b[49m\u001b[38;5;241;43m=\u001b[39;49m\u001b[43mtorch\u001b[49m\u001b[38;5;241;43m.\u001b[39;49m\u001b[43mfloat32\u001b[49m\u001b[43m)\u001b[49m\n\u001b[1;32m     23\u001b[0m total_chips_collected \u001b[38;5;241m=\u001b[39m torch\u001b[38;5;241m.\u001b[39mtensor([state[\u001b[38;5;124m\"\u001b[39m\u001b[38;5;124mtotal_collected_chips\u001b[39m\u001b[38;5;124m\"\u001b[39m]], dtype\u001b[38;5;241m=\u001b[39mtorch\u001b[38;5;241m.\u001b[39mfloat32)\n\u001b[1;32m     25\u001b[0m \u001b[38;5;66;03m# Is the socket unlocked?\u001b[39;00m\n",
      "\u001b[0;31mKeyboardInterrupt\u001b[0m: "
     ]
    }
   ],
   "source": [
    "# 🔥 훈련 루프\n",
    "num_epochs = training_config[\"epochs\"]\n",
    "scheduler = StepLR(optimizer, step_size=200, gamma=0.9)\n",
    "\n",
    "for epoch in range(num_epochs):\n",
    "    total_loss = 0\n",
    "\n",
    "    for state_vector, action in dataloader:\n",
    "        optimizer.zero_grad()\n",
    "\n",
    "        # predict\n",
    "        outputs = model(state_vector)\n",
    "\n",
    "        # loss calculation\n",
    "        loss = criterion(outputs, action)\n",
    "        total_loss += loss.item()\n",
    "\n",
    "        # back propagation\n",
    "        loss.backward()\n",
    "        optimizer.step()\n",
    "    \n",
    "    scheduler.step()\n",
    "    \n",
    "    if (epoch + 1) % 100 == 0:\n",
    "        avg_loss = total_loss / len(dataloader)\n",
    "        print(f\"Epoch {epoch+1}/{num_epochs}, Loss: {avg_loss:.4f}, LR: {scheduler.get_last_lr()[0]:.4f}\")\n",
    "        wandb.log({\"epoch\": epoch + 1, \"loss\": avg_loss, \"learning_rate\": scheduler.get_last_lr()[0]})\n",
    "        \n",
    "# close wandb\n",
    "wandb.finish()"
   ]
  },
  {
   "cell_type": "code",
   "execution_count": null,
   "metadata": {},
   "outputs": [
    {
     "name": "stdout",
     "output_type": "stream",
     "text": [
      "📁 Model saved at ../model/lv1_bc_model_4.0.pth\n"
     ]
    }
   ],
   "source": [
    "# Model save directory\n",
    "model_path = \"../model/lv1_bc_model.pth\"\n",
    "# Save model\n",
    "torch.save(model.state_dict(), model_path)"
   ]
  },
  {
   "cell_type": "code",
   "execution_count": null,
   "metadata": {},
   "outputs": [
    {
     "name": "stdout",
     "output_type": "stream",
     "text": [
      "🤖 AI Predicted Action: DOWN\n"
     ]
    },
    {
     "name": "stderr",
     "output_type": "stream",
     "text": [
      "/var/folders/jk/fgtqjbt14jg00g8k4jkjl6_40000gn/T/ipykernel_20352/2709833209.py:4: UserWarning: To copy construct from a tensor, it is recommended to use sourceTensor.clone().detach() or sourceTensor.clone().detach().requires_grad_(True), rather than torch.tensor(sourceTensor).\n",
      "  state_vector = torch.tensor(state, dtype=torch.float32).unsqueeze(0)\n"
     ]
    }
   ],
   "source": [
    "def predict_action(model, state):\n",
    "    model.eval()\n",
    "    with torch.no_grad():\n",
    "        state_vector = torch.tensor(state, dtype=torch.float32).unsqueeze(0)\n",
    "        output = model(state_vector)\n",
    "        action_idx = torch.argmax(output).item()\n",
    "    \n",
    "    action_mapping = {0: \"UP\", 1: \"DOWN\", 2: \"LEFT\", 3: \"RIGHT\"}\n",
    "    return action_mapping[action_idx]\n",
    "\n",
    "test_state, _ = dataset[0]  # Check the first sample in the dataset\n",
    "predicted_action = predict_action(model, test_state)\n",
    "print(f\"AI Predicted Action: {predicted_action}\")"
   ]
  }
 ],
 "metadata": {
  "kernelspec": {
   "display_name": "marlenv",
   "language": "python",
   "name": "python3"
  },
  "language_info": {
   "codemirror_mode": {
    "name": "ipython",
    "version": 3
   },
   "file_extension": ".py",
   "mimetype": "text/x-python",
   "name": "python",
   "nbconvert_exporter": "python",
   "pygments_lexer": "ipython3",
   "version": "3.9.19"
  }
 },
 "nbformat": 4,
 "nbformat_minor": 2
}
